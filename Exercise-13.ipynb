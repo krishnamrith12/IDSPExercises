{
 "cells": [
  {
   "cell_type": "markdown",
   "metadata": {},
   "source": [
    "# A Data-Riddle on the Riddler  "
   ]
  },
  {
   "cell_type": "markdown",
   "metadata": {},
   "source": [
    "Prelude: Riddler is a weekly column at the [https://fivethirtyeight.com/](https://fivethirtyeight.com/), where they offer puzzles on maths, logic and probability. These puzzles are often solved using data analysis approaches. "
   ]
  },
  {
   "cell_type": "markdown",
   "metadata": {},
   "source": [
    "##  Are you The Best Warlord?\n",
    "[Article Page](https://fivethirtyeight.com/features/are-you-the-best-warlord/)\n",
    "\n",
    "\n",
    "\n",
    "In a distant, war-torn land, there are ten castles. There are two warlords: you and your archenemy. Each castle has its own strategic value for a would-be conqueror. Specifically, the castles are worth 1, 2, 3, …, 9, and 10 victory points (corresponding to the castle number). You and your enemy each have 100 soldiers to distribute, any way you like, to fight at any of the ten castles. Whoever sends more soldiers to a given castle conquers that castle and wins its victory points. If you each send the same number of troops, you split the points. You don’t know what distribution of forces your enemy has chosen until the battles begin. Whoever wins the most points wins the war.\n",
    "\n",
    "The puzzle received submissions from around 1500 users, and the submissions are available at [https://github.com/fivethirtyeight/data/blob/master/riddler-castles/castle-solutions-3.csv](https://github.com/fivethirtyeight/data/blob/master/riddler-castles/castle-solutions-3.csv)"
   ]
  },
  {
   "cell_type": "markdown",
   "metadata": {},
   "source": [
    "### Questions"
   ]
  },
  {
   "cell_type": "markdown",
   "metadata": {},
   "source": [
    "- Read the file and remove the invalid entries from the file.\n",
    "- Constraints: \n",
    "    - The sum of entries in each row should add up to 100 (A soldier needs to be sent to some castle)\n",
    "    - The number of soldiers sent to a castle should be a whole number"
   ]
  },
  {
   "cell_type": "code",
   "execution_count": null,
   "metadata": {},
   "outputs": [],
   "source": []
  },
  {
   "cell_type": "markdown",
   "metadata": {},
   "source": [
    "Using the data you obtain after the above cleaning, perform the following:\n",
    "\n",
    "1. For each castle, try to fit (using `stats.norm.fit`) the distribution as normal distribution and obtain its mean, `mu` and standard deviation, `sigma.` \n",
    "2. For the castle with the highest mean value, plot the histogram and the corresponding normal distribution obtained using `stats.norm.fit`.\n",
    "3. For the castle with the lowest standard deviation value,  plot the histogram and the corresponding normal distribution obtained using `stats.norm.fit`.\n",
    "4. For the castle with the highest standard deviation value,  plot the histogram and the corresponding normal distribution obtained using `stats.norm.fit`.\n",
    "\n"
   ]
  },
  {
   "cell_type": "markdown",
   "metadata": {},
   "source": [
    "For the castles in questions 2, 3 and 4 in the previous question box, perform the following:\n",
    "- Plot the Q-Q plots and verify, and if the above data distributions are good fits as normal distribution "
   ]
  },
  {
   "cell_type": "code",
   "execution_count": null,
   "metadata": {},
   "outputs": [],
   "source": []
  },
  {
   "cell_type": "markdown",
   "metadata": {},
   "source": [
    "- Find the mode(s) and median for each of the castle"
   ]
  },
  {
   "cell_type": "code",
   "execution_count": null,
   "metadata": {},
   "outputs": [],
   "source": []
  },
  {
   "cell_type": "markdown",
   "metadata": {},
   "source": [
    "- For each submission (a row), compare it with every other row and calculate (roughly $1500 \\times 1500$ comparisons) the score for each player in each of the comparison"
   ]
  },
  {
   "cell_type": "code",
   "execution_count": null,
   "metadata": {},
   "outputs": [],
   "source": []
  },
  {
   "cell_type": "markdown",
   "metadata": {},
   "source": [
    " - Calculate the number of wins, losses and ties for each of the submissions."
   ]
  },
  {
   "cell_type": "code",
   "execution_count": null,
   "metadata": {},
   "outputs": [],
   "source": []
  },
  {
   "cell_type": "markdown",
   "metadata": {},
   "source": [
    "- Plot the histogram based on the number of wins per submission\n",
    "- Plot the histogram based on the number of losses per submission\n",
    "- Plot the histogram based on the number of losses per submission\n",
    "- Check if any of the above distribution follows a normal disstribution"
   ]
  },
  {
   "cell_type": "code",
   "execution_count": null,
   "metadata": {},
   "outputs": [],
   "source": []
  },
  {
   "cell_type": "markdown",
   "metadata": {},
   "source": [
    " - Find top 5 submissions based on their number of wins."
   ]
  },
  {
   "cell_type": "code",
   "execution_count": null,
   "metadata": {},
   "outputs": [],
   "source": []
  },
  {
   "cell_type": "markdown",
   "metadata": {},
   "source": [
    "- Consider the discrete data distrubtions (column vector for each castle) and the corresponding normal distribution obtained using `stats.norm.fit`\n",
    "- COnsider the submission with the highest number of wins\n",
    "- FOr each entry in the submission, calcualte its probability from the corresponding discrete data distribution\n",
    "- For each entry in the submission, calculatte its  probability from the corresponding normal distribution, obtained using `stats.norm.fit`\n",
    "- For each entry, calculate the differences of the corresponding probabilities for each castle"
   ]
  },
  {
   "cell_type": "markdown",
   "metadata": {},
   "source": [
    "\n",
    "\n",
    "- You are required to generatet 2000 different submissions, one each for a minion, where each submission is a vector of 10 integers, randomly sampled from a normal distribution.\n",
    "\n",
    "    - In reality, it is not possible to generate vectors as decribe in the question above. Could you reason why?"
   ]
  },
  {
   "cell_type": "code",
   "execution_count": null,
   "metadata": {},
   "outputs": [],
   "source": []
  },
  {
   "cell_type": "markdown",
   "metadata": {},
   "source": [
    "### Detour from warlords: Being both rounded and normal.\n",
    "\n",
    "- Sample 100000 entries from a normal distribution.\n",
    "- Round off each draw to the nearest integer.\n",
    "- Check if the resulting disttribution is also normal\n"
   ]
  },
  {
   "cell_type": "code",
   "execution_count": null,
   "metadata": {},
   "outputs": [],
   "source": []
  }
 ],
 "metadata": {
  "kernelspec": {
   "display_name": "Python 3",
   "language": "python",
   "name": "python3"
  },
  "language_info": {
   "codemirror_mode": {
    "name": "ipython",
    "version": 3
   },
   "file_extension": ".py",
   "mimetype": "text/x-python",
   "name": "python",
   "nbconvert_exporter": "python",
   "pygments_lexer": "ipython3",
   "version": "3.7.3"
  }
 },
 "nbformat": 4,
 "nbformat_minor": 2
}
