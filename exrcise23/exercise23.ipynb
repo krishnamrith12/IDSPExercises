{
 "cells": [
  {
   "cell_type": "markdown",
   "metadata": {},
   "source": [
    "# Exercise 23\n",
    "\n",
    "- Using the `Graph` class and assocated methods developed in the class, solve thee following exercise questions"
   ]
  },
  {
   "cell_type": "markdown",
   "metadata": {},
   "source": [
    "Load the \"Zachary Karate Club\" dataset from `karate.txt` file"
   ]
  },
  {
   "cell_type": "code",
   "execution_count": null,
   "metadata": {},
   "outputs": [],
   "source": []
  },
  {
   "cell_type": "markdown",
   "metadata": {},
   "source": [
    "Similarly, load th following five different graphs and store them as separate graphs\n",
    "\n",
    "``` [\"graph3.txt\", \"graphAB.txt\", \"graphDense1.txt\", \"graphDense2.txt\", \"graphER.txt\"]```"
   ]
  },
  {
   "cell_type": "code",
   "execution_count": null,
   "metadata": {},
   "outputs": [],
   "source": []
  },
  {
   "cell_type": "markdown",
   "metadata": {},
   "source": [
    "Calculate the following for each of the 5 graphs :\n",
    "    - number of nodes \n",
    "    - edges \n",
    "    - Degree disstribution \n",
    "    - Neighbour degree distribution"
   ]
  },
  {
   "cell_type": "code",
   "execution_count": null,
   "metadata": {},
   "outputs": [],
   "source": []
  },
  {
   "cell_type": "markdown",
   "metadata": {},
   "source": [
    "Compare the above results of the average distance and assortativity values in each of the graphs with those of the Zachary karate club network.\n",
    "\n",
    "Note: You need to compare the simialrity for each of the above measure. There might more than one graphs with same simialrity"
   ]
  },
  {
   "cell_type": "code",
   "execution_count": null,
   "metadata": {},
   "outputs": [],
   "source": []
  },
  {
   "cell_type": "markdown",
   "metadata": {},
   "source": [
    "Delete 5 edges randomly, from each of the 6 above graphs, and recalculate th above metrics for each of it. How exactly would the degree distribution and neighbour degreee distribution change for each?\n",
    "\n",
    "Plot the distributions for the original and modified graphs and com"
   ]
  },
  {
   "cell_type": "code",
   "execution_count": null,
   "metadata": {},
   "outputs": [],
   "source": []
  },
  {
   "cell_type": "markdown",
   "metadata": {},
   "source": [
    "For each of the 6 graphs (origianl graphss before deletion), abovee identify triangles or cliques of size 3 from the Graphs. Write your own code to find the cliques by modifying the `Graph` class.\n",
    "\n",
    "Sourrce - http://silviu.maniu.info/teaching/m2_dk_sdm_lab1.pdf"
   ]
  },
  {
   "cell_type": "code",
   "execution_count": null,
   "metadata": {},
   "outputs": [],
   "source": []
  },
  {
   "cell_type": "markdown",
   "metadata": {},
   "source": [
    "Compute the number of triangles in which each node is involved.  The output should be adictionary containing the node as a key and the number of triangles as a value"
   ]
  },
  {
   "cell_type": "code",
   "execution_count": null,
   "metadata": {},
   "outputs": [],
   "source": []
  },
  {
   "cell_type": "markdown",
   "metadata": {},
   "source": [
    "For testing, compare your output with that of the `networkx.trianglesmethod`."
   ]
  },
  {
   "cell_type": "code",
   "execution_count": null,
   "metadata": {},
   "outputs": [],
   "source": []
  },
  {
   "cell_type": "markdown",
   "metadata": {},
   "source": [
    "Using the dictionary of triangles, calculated previously, output the total number of triangles in the graph."
   ]
  },
  {
   "cell_type": "code",
   "execution_count": null,
   "metadata": {},
   "outputs": [],
   "source": []
  }
 ],
 "metadata": {
  "kernelspec": {
   "display_name": "Python 3",
   "language": "python",
   "name": "python3"
  },
  "language_info": {
   "codemirror_mode": {
    "name": "ipython",
    "version": 3
   },
   "file_extension": ".py",
   "mimetype": "text/x-python",
   "name": "python",
   "nbconvert_exporter": "python",
   "pygments_lexer": "ipython3",
   "version": "3.7.3"
  }
 },
 "nbformat": 4,
 "nbformat_minor": 2
}
