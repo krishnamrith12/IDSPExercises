{
 "cells": [
  {
   "cell_type": "markdown",
   "metadata": {
    "slideshow": {
     "slide_type": "-"
    }
   },
   "source": [
    "<h1><center> Network/Graph Analysis in Python </center></h1>"
   ]
  },
  {
   "cell_type": "markdown",
   "metadata": {},
   "source": [
    "**NetworkX**: Python package for the creation, manipulation, and study of the structure, dynamics, and functions of complex networks.\n",
    "\n",
    "Installation: \n",
    "`$ pip install networkx`\n",
    "\n",
    "Version check in Python:\n",
    "`networkx.__version__`\n",
    "\n",
    "Upgrade:\n",
    "`$ pip install networkx --upgrade`\n",
    "\n",
    "**nxviz**: network visualization package\n",
    "\n",
    "Installation:\n",
    "`$ pip install nxviz`"
   ]
  },
  {
   "cell_type": "code",
   "execution_count": 1,
   "metadata": {
    "slideshow": {
     "slide_type": "-"
    }
   },
   "outputs": [],
   "source": [
    "import numpy as np\n",
    "import __________ as nx       ## replace \"_______\" with the rlevant library\n",
    "import matplotlib.pyplot as plt\n",
    "import nxviz as nv\n",
    "from collections import Counter\n",
    "\n",
    "%matplotlib inline"
   ]
  },
  {
   "cell_type": "markdown",
   "metadata": {},
   "source": [
    "**Some open source network data locations:**\n",
    "\n",
    "* **graph examples embedded in NetworkX:**\n",
    "    * Zachary's Karate Club: `nx.karate_club_graph()`\n",
    "    * Davis Southern women social network: `nx.davis_southern_women_graph()`\n",
    "    *  Florentine families: `nx.florentine_families_graph()`\n",
    "    * more examples: https://networkx.github.io/documentation/networkx-1.9/examples/index.html\n"
   ]
  },
  {
   "cell_type": "markdown",
   "metadata": {},
   "source": [
    "## I. Networks Basics"
   ]
  },
  {
   "cell_type": "markdown",
   "metadata": {},
   "source": [
    "#  <font color='red'>Complete the cells below, so as to implement the instructions as given in comments in the respective cells </font>"
   ]
  },
  {
   "cell_type": "markdown",
   "metadata": {},
   "source": [
    "### 1. Create & Manipulate Networks \n",
    "\n",
    "Let's start with simple undirected and unweighted networks. An example of such networks, where we don't have edge direction (in/out) or edge weight (indicating how strong a connection is), would be the Facebook network. If you are a friend of mine, I am a friend of yours, and the edge connecting us is either 1 (connected) or non-existent (not connected). We will generate more complex networks later on."
   ]
  },
  {
   "cell_type": "markdown",
   "metadata": {},
   "source": [
    "**Nodes**: can represent anything (images, webpage URL links, people, power stations, numbers, words, etc.)\n",
    "\n",
    "**Edges**: represent relationships between nodes"
   ]
  },
  {
   "cell_type": "code",
   "execution_count": 2,
   "metadata": {},
   "outputs": [],
   "source": [
    "# create empty network\n"
   ]
  },
  {
   "cell_type": "code",
   "execution_count": 3,
   "metadata": {},
   "outputs": [],
   "source": [
    "# add one node with label '1'\n"
   ]
  },
  {
   "cell_type": "code",
   "execution_count": 7,
   "metadata": {},
   "outputs": [],
   "source": [
    "# add nodes from a list of elements\n",
    "G.add_nodes_from(['Mary', 4, 'Alice', 'Mary'])"
   ]
  },
  {
   "cell_type": "code",
   "execution_count": 9,
   "metadata": {},
   "outputs": [],
   "source": [
    "# remove node\n"
   ]
  },
  {
   "cell_type": "code",
   "execution_count": 10,
   "metadata": {},
   "outputs": [],
   "source": [
    "# remove multiple nodes\n",
    "G.remove_nodes_from(['Mary', 1])"
   ]
  },
  {
   "cell_type": "code",
   "execution_count": null,
   "metadata": {},
   "outputs": [],
   "source": [
    "# view nodes in network G\n",
    "G.nodes"
   ]
  },
  {
   "cell_type": "code",
   "execution_count": null,
   "metadata": {},
   "outputs": [],
   "source": [
    "# add single edge - tuple of nodes (source, target)\n",
    "# this also adds nodes if they don't already exist\n",
    "\n",
    "# replace the `_____` and use the appropriat function\n",
    "\n",
    "G.__________('Mary','Steven')"
   ]
  },
  {
   "cell_type": "code",
   "execution_count": 13,
   "metadata": {},
   "outputs": [],
   "source": [
    "# add multiple of edges (list of tuples)\n",
    "G.____________([('Mary', 'Steven') , ('Mary', 'Alice')])"
   ]
  },
  {
   "cell_type": "code",
   "execution_count": 14,
   "metadata": {},
   "outputs": [
    {
     "data": {
      "text/plain": [
       "EdgeView([('Alice', 'Mary'), ('Mary', 'Steven')])"
      ]
     },
     "execution_count": 14,
     "metadata": {},
     "output_type": "execute_result"
    }
   ],
   "source": [
    "# view edges in network G\n",
    "G.edges"
   ]
  },
  {
   "cell_type": "code",
   "execution_count": null,
   "metadata": {},
   "outputs": [],
   "source": [
    "# remove edge\n",
    "G.remove_edge('Mary','Alice')"
   ]
  },
  {
   "cell_type": "code",
   "execution_count": null,
   "metadata": {},
   "outputs": [],
   "source": [
    "# remove multiple edges (list of tuples)\n",
    "G.remove_edges_from([('Mary', 'Steven') , ('Mary', 'Alice')])"
   ]
  },
  {
   "cell_type": "code",
   "execution_count": null,
   "metadata": {},
   "outputs": [],
   "source": [
    "# get number of nodes in network G\n",
    "G.number_of_nodes()"
   ]
  },
  {
   "cell_type": "code",
   "execution_count": null,
   "metadata": {},
   "outputs": [],
   "source": [
    "# get number of edges in network G\n",
    "G._________()"
   ]
  },
  {
   "cell_type": "code",
   "execution_count": null,
   "metadata": {},
   "outputs": [],
   "source": [
    "# get Alice's number of neighbors (connections)\n",
    "G.___________('Alice')"
   ]
  },
  {
   "cell_type": "code",
   "execution_count": null,
   "metadata": {},
   "outputs": [],
   "source": [
    "# empty the network\n",
    "G.clear()"
   ]
  },
  {
   "cell_type": "markdown",
   "metadata": {},
   "source": [
    "**Load network from file.** You can read/write a graph in a file using common graph formats (edge lists, adjacency lists, GML, GraphML, pickle, LEDA, etc.).\n",
    "\n",
    "To see how to read different types of adjancency formats, check here: https://networkx.github.io/documentation/networkx-1.10/reference/readwrite.html"
   ]
  },
  {
   "cell_type": "code",
   "execution_count": 27,
   "metadata": {},
   "outputs": [],
   "source": [
    "# input edgelist from file\n",
    "G = nx.______________(\"../datafiles/social/facebook/fb.txt\")"
   ]
  },
  {
   "cell_type": "code",
   "execution_count": 29,
   "metadata": {},
   "outputs": [],
   "source": [
    "# get the 2nd node's neighbors (retrieves a dictionary)\n",
    "dict_neighbors = G.neighbors('2')"
   ]
  },
  {
   "cell_type": "code",
   "execution_count": 30,
   "metadata": {},
   "outputs": [
    {
     "data": {
      "text/plain": [
       "['1',\n",
       " '3',\n",
       " '7',\n",
       " '9',\n",
       " '11',\n",
       " '12',\n",
       " '16',\n",
       " '17',\n",
       " '18',\n",
       " '23',\n",
       " '51',\n",
       " '53',\n",
       " '479',\n",
       " '1079',\n",
       " '1132',\n",
       " '1237',\n",
       " '1645',\n",
       " '2053',\n",
       " '2054',\n",
       " '2055',\n",
       " '2056',\n",
       " '2057',\n",
       " '2058',\n",
       " '2059',\n",
       " '2060',\n",
       " '2061']"
      ]
     },
     "execution_count": 30,
     "metadata": {},
     "output_type": "execute_result"
    }
   ],
   "source": [
    "list(dict_neighbors)"
   ]
  },
  {
   "cell_type": "code",
   "execution_count": null,
   "metadata": {},
   "outputs": [],
   "source": [
    "# find shortest path between 2 given nodes\n"
   ]
  },
  {
   "cell_type": "code",
   "execution_count": null,
   "metadata": {},
   "outputs": [],
   "source": [
    "# find the average shortest path length in graph\n",
    "nx.______________"
   ]
  },
  {
   "cell_type": "code",
   "execution_count": null,
   "metadata": {},
   "outputs": [],
   "source": [
    "# number of total edges in graph\n",
    "len(G.nodes),len(G.edges)"
   ]
  },
  {
   "cell_type": "code",
   "execution_count": null,
   "metadata": {},
   "outputs": [],
   "source": [
    "#calculate the pearson correlation coefficient\n",
    "nx.____________(G)"
   ]
  },
  {
   "cell_type": "code",
   "execution_count": null,
   "metadata": {},
   "outputs": [],
   "source": [
    "# clustering coefficient of the network\n",
    "cc = nx.___________(G)\n",
    "avg_clust = sum(cc.values()) / len(cc)\n",
    "print(avg_clust)"
   ]
  },
  {
   "cell_type": "code",
   "execution_count": null,
   "metadata": {},
   "outputs": [],
   "source": [
    "# check whether the network is connected or not\n",
    "nx.______________(G)"
   ]
  },
  {
   "cell_type": "code",
   "execution_count": null,
   "metadata": {},
   "outputs": [],
   "source": [
    "# find number of connected components\n",
    "nx.______________(G)"
   ]
  },
  {
   "cell_type": "code",
   "execution_count": null,
   "metadata": {},
   "outputs": [],
   "source": [
    "# get the nodes in the same component as *n*\n",
    "nx._______________"
   ]
  },
  {
   "cell_type": "markdown",
   "metadata": {},
   "source": [
    "## IV. Queries On Networks\n",
    "\n",
    "* find specific nodes\n",
    "* find specific edges"
   ]
  },
  {
   "cell_type": "code",
   "execution_count": null,
   "metadata": {},
   "outputs": [],
   "source": [
    "# obtain a list of nodes with a certain property\n",
    "sub_nodes = [n[0] for n in G.nodes(data=True) if d[________] == ____________]"
   ]
  },
  {
   "cell_type": "code",
   "execution_count": null,
   "metadata": {},
   "outputs": [],
   "source": [
    "# obtain a list of edges with a certain property\n",
    "sub_edges = [________ for edge in ____________ if d['attribute'] == 'what we are interested in']"
   ]
  },
  {
   "cell_type": "code",
   "execution_count": null,
   "metadata": {},
   "outputs": [],
   "source": [
    "# find cliques in a given graph"
   ]
  },
  {
   "cell_type": "code",
   "execution_count": null,
   "metadata": {},
   "outputs": [],
   "source": [
    "# Obtain an induced subgraph or an egecentric graph (a special case of induced subgraph) from a given graph, \n",
    "# as demonstrated in live coding"
   ]
  },
  {
   "cell_type": "code",
   "execution_count": null,
   "metadata": {},
   "outputs": [],
   "source": [
    "# with_labels=True to show node labels\n",
    "nx.draw(G_sub, with_labels=True)"
   ]
  },
  {
   "cell_type": "markdown",
   "metadata": {},
   "source": [
    "## V. Case Studies - Real Network Analysis from Data "
   ]
  },
  {
   "cell_type": "markdown",
   "metadata": {},
   "source": [
    "### V. 1. Social Networks - Facebook Pages\n",
    "using ***Graph Embedding with Self Clustering: Facebook data*** \n",
    "\n",
    "- data location: SNAP (Stanford Large Network Dataset Collection)\n",
    "- source: B. Rozemberczki, R. Davies, R. Sarkar and C. Sutton. GEMSEC: Graph Embedding with Self Clustering. 2018."
   ]
  },
  {
   "cell_type": "markdown",
   "metadata": {},
   "source": [
    "<img src=\"../images/data.png\" alt=\"Data\" style=\"width: 300px;\"/>"
   ]
  },
  {
   "cell_type": "markdown",
   "metadata": {},
   "source": [
    "* nodes: pages\n",
    "* edges: mutual likes among them -> this means undirected & networks\n",
    "\n",
    "\n",
    "There are 8 different networks representing different categories. For our current analysis, we will analyze and compare 4 networks `Company`, `Artist`, `Politician` and `Public Figure`, however, you can play with all of them to get used to manipulating networks and computing structural property measures, and to gain insights about the data."
   ]
  },
  {
   "cell_type": "markdown",
   "metadata": {},
   "source": [
    "### a. Load network from file"
   ]
  },
  {
   "cell_type": "code",
   "execution_count": 3,
   "metadata": {},
   "outputs": [],
   "source": [
    "# load edgelists from data file\n",
    "co_net = nx.______________(\"datafiles/social/facebook/facebook_clean_data/company_edges.csv\", delimiter=',')\n",
    "art_net = nx.read_edgelist(\"datafiles/social/facebook/facebook_clean_data/artist_edges.csv\", delimiter=',')\n",
    "poli_net = nx.read_edgelist(\"datafiles/social/facebook/facebook_clean_data/politician_edges.csv\", delimiter=',')\n",
    "pub_net = nx.read_edgelist(\"datafiles/social/facebook/facebook_clean_data/public_figure_edges.csv\", delimiter=',')"
   ]
  },
  {
   "cell_type": "code",
   "execution_count": 15,
   "metadata": {},
   "outputs": [
    {
     "data": {
      "text/plain": [
       "0.0"
      ]
     },
     "execution_count": 15,
     "metadata": {},
     "output_type": "execute_result"
    }
   ],
   "source": []
  },
  {
   "cell_type": "markdown",
   "metadata": {},
   "source": [
    "### b. Analyze network"
   ]
  },
  {
   "cell_type": "code",
   "execution_count": 13,
   "metadata": {},
   "outputs": [
    {
     "name": "stdout",
     "output_type": "stream",
     "text": [
      "5908 ['0', '1972', '5111', '138', '3053', '1473', '4978', '4523', '2334', '1038']\n",
      "41729\n"
     ]
    }
   ],
   "source": [
    "# check number of nodes and edges \n",
    "N = len(poli_net.nodes)\n",
    "print(N,list(poli_net.nodes)[:10])\n",
    "\n",
    "E = len(poli_net.edges)\n",
    "print(E)"
   ]
  },
  {
   "cell_type": "markdown",
   "metadata": {},
   "source": [
    "Let's see what is on average the number of mutual 'Likes' (connections) each page (node) has. "
   ]
  },
  {
   "cell_type": "code",
   "execution_count": 5,
   "metadata": {},
   "outputs": [
    {
     "name": "stdout",
     "output_type": "stream",
     "text": [
      "The # of mutual likes politician pages have on average: 14.126269465132024\n",
      "The # of mutual likes artist pages have on average: 32.43812728892408\n",
      "The # of mutual likes company pages have on average: 7.413023453553461\n",
      "The # of mutual likes public figure pages have on average: 11.606398616515348\n"
     ]
    }
   ],
   "source": [
    "# calculate average degree of politician pages\n",
    "degrees = ______________________\n",
    "kavg = np.mean(degrees)\n",
    "print(\"The # of mutual likes politician pages have on average:\", kavg)\n",
    "\n",
    "# calculate average degree of artist pages\n",
    "degrees = ________________________\n",
    "kavg = np.mean(degrees)\n",
    "print(\"The # of mutual likes artist pages have on average:\", kavg)\n",
    "\n",
    "# calculate average degree of company pages\n",
    "degrees = ___________________________\n",
    "kavg = np.mean(degrees)\n",
    "print(\"The # of mutual likes company pages have on average:\", kavg)\n",
    "\n",
    "# calculate average degree of public figure pages\n",
    "degrees = [deg for node, deg in nx.degree(pub_net)]\n",
    "kavg = np.mean(degrees)\n",
    "print(\"The # of mutual likes public figure pages have on average:\", kavg)"
   ]
  },
  {
   "cell_type": "markdown",
   "metadata": {},
   "source": [
    "What about the degree distribution in the networks?"
   ]
  },
  {
   "cell_type": "markdown",
   "metadata": {},
   "source": [
    "- Based on the session in the class, perform the following:\n",
    "    - Is any of the above a heavy-tailed degree distribution?\n",
    "    - Plot the PDF, CDF, CCDF, with and without log scales and explain which plot works best to investigate the data.\n"
   ]
  },
  {
   "cell_type": "code",
   "execution_count": 8,
   "metadata": {},
   "outputs": [
    {
     "data": {
      "image/png": "[encoded data removed]",
      "text/plain": [
       "<Figure size 432x288 with 1 Axes>"
      ]
     },
     "metadata": {
      "needs_background": "light"
     },
     "output_type": "display_data"
    }
   ],
   "source": [
    "# Find degree distribution of the networks\n",
    "hist_poli = _________(poli_net)\n",
    "hist_art = __________(art_net)\n",
    "hist_co = __________(co_net)\n",
    "hist_pub = __________(pub_net)\n",
    "\n",
    "## loglog degree distribution of nodes\n",
    "\n",
    "plt.figure()\n",
    "plt.______(hist_poli.T[0],hist_poli.T[1],'ro-')\n",
    "plt.______(hist_art.T[0],hist_art.T[1],'ko-')\n",
    "plt.______(hist_co.T[0],hist_co.T[1],'go-')\n",
    "plt.______(hist_pub.T[0],hist_pub.T[1],'bo-')\n",
    "plt.legend(['Politician', 'Artist', 'Company', 'Public Figure'])\n",
    "plt.xlabel('Degree')\n",
    "plt.ylabel('Number of nodes')\n",
    "plt.title('Facebook Networks by Category')\n",
    "plt.savefig('fb_network_degree_distr.png')"
   ]
  },
  {
   "cell_type": "code",
   "execution_count": 9,
   "metadata": {},
   "outputs": [
    {
     "name": "stdout",
     "output_type": "stream",
     "text": [
      "Politician network assortativity: 0.0182443427670884\n",
      "Artist network assortativity: -0.01906626068251133\n",
      "Company network assortativity: 0.012977786248196819\n",
      "Public figure network assortativity: 0.202161548290631\n"
     ]
    }
   ],
   "source": [
    "# check assortativity\n",
    "print(\"Politician network assortativity: {}\".format(nx.____________(poli_net)))\n",
    "print(\"Artist network assortativity: {}\".format(nx.___________(art_net)))\n",
    "print(\"Company network assortativity: {}\".format(nx.________(co_net)))\n",
    "print(\"Public figure network assortativity: {}\".format(nx.____________(pub_net)))"
   ]
  },
  {
   "cell_type": "code",
   "execution_count": 10,
   "metadata": {},
   "outputs": [
    {
     "name": "stdout",
     "output_type": "stream",
     "text": [
      "Politician network clustering coefficient: 0.385096125793274\n",
      "Artist network clustering coefficient: 0.13812042114553588\n",
      "Company network clustering coefficient: 0.2392418380399809\n",
      "Public figure network clustering coefficient: 0.17934725117824554\n"
     ]
    }
   ],
   "source": [
    "# check clustering coefficient\n",
    "cc = nx._______(poli_net)\n",
    "avg_cc_poli = sum(cc.values()) / len(cc)\n",
    "print(\"Politician network clustering coefficient:\", avg_cc_poli)\n",
    "\n",
    "cc = nx.__________(art_net)\n",
    "avg_cc_art = sum(cc.values()) / len(cc)\n",
    "print(\"Artist network clustering coefficient:\", avg_cc_art)\n",
    "\n",
    "cc = nx.____________(co_net)\n",
    "avg_cc_co = sum(cc.values()) / len(cc)\n",
    "print(\"Company network clustering coefficient:\", avg_cc_co)\n",
    "\n",
    "cc = nx._________(pub_net)\n",
    "avg_cc_pub = sum(cc.values()) / len(cc)\n",
    "print(\"Public figure network clustering coefficient:\", avg_cc_pub)"
   ]
  }
 ],
 "metadata": {
  "kernelspec": {
   "display_name": "Python 3",
   "language": "python",
   "name": "python3"
  },
  "language_info": {
   "codemirror_mode": {
    "name": "ipython",
    "version": 3
   },
   "file_extension": ".py",
   "mimetype": "text/x-python",
   "name": "python",
   "nbconvert_exporter": "python",
   "pygments_lexer": "ipython3",
   "version": "3.7.3"
  }
 },
 "nbformat": 4,
 "nbformat_minor": 2
}
