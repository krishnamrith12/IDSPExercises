{
 "cells": [
  {
   "cell_type": "markdown",
   "metadata": {},
   "source": [
    "##### Let's talk about Game of thrones or shall I say Network of Thrones.\n",
    "\n",
    "It is suprising right? What is the relationship between a fatansy TV show/novel and network science or python(it's not related to a dragon).\n",
    "\n",
    "If you haven't heard of Game of Thrones, then you must be really good at hiding. Game of Thrones is the hugely popular television series by HBO based on the (also) hugely popular book series A Song of Ice and Fire by George R.R. Martin. In this notebook, we will analyze the co-occurrence network of the characters in the Game of Thrones books. Here, two characters are considered to co-occur if their names appear in the vicinity of 15 words from one another in the books."
   ]
  },
  {
   "cell_type": "markdown",
   "metadata": {},
   "source": [
    "![](images/got.png)"
   ]
  },
  {
   "cell_type": "markdown",
   "metadata": {},
   "source": [
    "Andrew J. Beveridge, an associate professor of mathematics at Macalester College, and Jie Shan, an undergraduate created a network from the book A Storm of Swords by extracting relationships between characters to find out the most important characters in the book(or GoT).\n",
    "\n",
    "The dataset is publicly avaiable for the 5 books at https://github.com/mathbeveridge/asoiaf. This is an interaction network and were created by connecting two characters whenever their names (or nicknames) appeared within 15 words of one another in one of the books. The edge weight corresponds to the number of interactions. \n",
    "\n",
    "Credits:\n",
    "\n",
    "Original Notebook: https://ericmjl.github.io/Network-Analysis-Made-Simple/7-game-of-thrones-case-study-instructor.html\n",
    "\n",
    "Blog: https://networkofthrones.wordpress.com\n",
    "\n",
    "Math Horizons Article: https://www.maa.org/sites/default/files/pdf/Mathhorizons/NetworkofThrones%20%281%29.pdf"
   ]
  },
  {
   "cell_type": "code",
   "execution_count": 23,
   "metadata": {},
   "outputs": [
    {
     "data": {
      "text/html": [
       "<div>\n",
       "<style scoped>\n",
       "    .dataframe tbody tr th:only-of-type {\n",
       "        vertical-align: middle;\n",
       "    }\n",
       "\n",
       "    .dataframe tbody tr th {\n",
       "        vertical-align: top;\n",
       "    }\n",
       "\n",
       "    .dataframe thead th {\n",
       "        text-align: right;\n",
       "    }\n",
       "</style>\n",
       "<table border=\"1\" class=\"dataframe\">\n",
       "  <thead>\n",
       "    <tr style=\"text-align: right;\">\n",
       "      <th></th>\n",
       "      <th>Source</th>\n",
       "      <th>Target</th>\n",
       "      <th>Type</th>\n",
       "      <th>weight</th>\n",
       "      <th>book</th>\n",
       "    </tr>\n",
       "  </thead>\n",
       "  <tbody>\n",
       "    <tr>\n",
       "      <th>0</th>\n",
       "      <td>Addam-Marbrand</td>\n",
       "      <td>Jaime-Lannister</td>\n",
       "      <td>Undirected</td>\n",
       "      <td>3</td>\n",
       "      <td>1</td>\n",
       "    </tr>\n",
       "    <tr>\n",
       "      <th>1</th>\n",
       "      <td>Addam-Marbrand</td>\n",
       "      <td>Tywin-Lannister</td>\n",
       "      <td>Undirected</td>\n",
       "      <td>6</td>\n",
       "      <td>1</td>\n",
       "    </tr>\n",
       "    <tr>\n",
       "      <th>2</th>\n",
       "      <td>Aegon-I-Targaryen</td>\n",
       "      <td>Daenerys-Targaryen</td>\n",
       "      <td>Undirected</td>\n",
       "      <td>5</td>\n",
       "      <td>1</td>\n",
       "    </tr>\n",
       "    <tr>\n",
       "      <th>3</th>\n",
       "      <td>Aegon-I-Targaryen</td>\n",
       "      <td>Eddard-Stark</td>\n",
       "      <td>Undirected</td>\n",
       "      <td>4</td>\n",
       "      <td>1</td>\n",
       "    </tr>\n",
       "    <tr>\n",
       "      <th>4</th>\n",
       "      <td>Aemon-Targaryen-(Maester-Aemon)</td>\n",
       "      <td>Alliser-Thorne</td>\n",
       "      <td>Undirected</td>\n",
       "      <td>4</td>\n",
       "      <td>1</td>\n",
       "    </tr>\n",
       "    <tr>\n",
       "      <th>5</th>\n",
       "      <td>Aemon-Targaryen-(Maester-Aemon)</td>\n",
       "      <td>Bowen-Marsh</td>\n",
       "      <td>Undirected</td>\n",
       "      <td>4</td>\n",
       "      <td>1</td>\n",
       "    </tr>\n",
       "    <tr>\n",
       "      <th>6</th>\n",
       "      <td>Aemon-Targaryen-(Maester-Aemon)</td>\n",
       "      <td>Chett</td>\n",
       "      <td>Undirected</td>\n",
       "      <td>9</td>\n",
       "      <td>1</td>\n",
       "    </tr>\n",
       "    <tr>\n",
       "      <th>7</th>\n",
       "      <td>Aemon-Targaryen-(Maester-Aemon)</td>\n",
       "      <td>Clydas</td>\n",
       "      <td>Undirected</td>\n",
       "      <td>5</td>\n",
       "      <td>1</td>\n",
       "    </tr>\n",
       "    <tr>\n",
       "      <th>8</th>\n",
       "      <td>Aemon-Targaryen-(Maester-Aemon)</td>\n",
       "      <td>Jeor-Mormont</td>\n",
       "      <td>Undirected</td>\n",
       "      <td>13</td>\n",
       "      <td>1</td>\n",
       "    </tr>\n",
       "    <tr>\n",
       "      <th>9</th>\n",
       "      <td>Aemon-Targaryen-(Maester-Aemon)</td>\n",
       "      <td>Jon-Snow</td>\n",
       "      <td>Undirected</td>\n",
       "      <td>34</td>\n",
       "      <td>1</td>\n",
       "    </tr>\n",
       "  </tbody>\n",
       "</table>\n",
       "</div>"
      ],
      "text/plain": [
       "                            Source              Target        Type  weight  \\\n",
       "0                   Addam-Marbrand     Jaime-Lannister  Undirected       3   \n",
       "1                   Addam-Marbrand     Tywin-Lannister  Undirected       6   \n",
       "2                Aegon-I-Targaryen  Daenerys-Targaryen  Undirected       5   \n",
       "3                Aegon-I-Targaryen        Eddard-Stark  Undirected       4   \n",
       "4  Aemon-Targaryen-(Maester-Aemon)      Alliser-Thorne  Undirected       4   \n",
       "5  Aemon-Targaryen-(Maester-Aemon)         Bowen-Marsh  Undirected       4   \n",
       "6  Aemon-Targaryen-(Maester-Aemon)               Chett  Undirected       9   \n",
       "7  Aemon-Targaryen-(Maester-Aemon)              Clydas  Undirected       5   \n",
       "8  Aemon-Targaryen-(Maester-Aemon)        Jeor-Mormont  Undirected      13   \n",
       "9  Aemon-Targaryen-(Maester-Aemon)            Jon-Snow  Undirected      34   \n",
       "\n",
       "   book  \n",
       "0     1  \n",
       "1     1  \n",
       "2     1  \n",
       "3     1  \n",
       "4     1  \n",
       "5     1  \n",
       "6     1  \n",
       "7     1  \n",
       "8     1  \n",
       "9     1  "
      ]
     },
     "execution_count": 23,
     "metadata": {},
     "output_type": "execute_result"
    }
   ],
   "source": [
    "import pandas as pd\n",
    "\n",
    "book1 = pd.read_csv('datasets/game_of_thrones_network/asoiaf-book1-edges.csv')\n",
    "book1.head(10)"
   ]
  },
  {
   "cell_type": "code",
   "execution_count": 33,
   "metadata": {},
   "outputs": [],
   "source": [
    "f = [item.strip().split(\",\") for item in open('datasets/game_of_thrones_network/asoiaf-book1-edges.csv').readlines()]\n",
    "f[1]\n"
   ]
  },
  {
   "cell_type": "code",
   "execution_count": 53,
   "metadata": {},
   "outputs": [],
   "source": [
    "#%%timeit\n",
    "G1 = nx.Graph()\n",
    "\n",
    "for item in f[1:]:\n",
    "    G1.add_edge(item[0],item[1],weight=int(item[3]),book=int(item[4]))"
   ]
  },
  {
   "cell_type": "code",
   "execution_count": 41,
   "metadata": {},
   "outputs": [
    {
     "name": "stdout",
     "output_type": "stream",
     "text": [
      "729 µs ± 35.9 µs per loop (mean ± std. dev. of 7 runs, 1000 loops each)\n"
     ]
    }
   ],
   "source": [
    "%%timeit\n",
    "edgeList = list()\n",
    "G2 = nx.Graph()\n",
    "for item in f[1:]:\n",
    "    edgeList.append((item[0],item[1]))\n",
    "    \n",
    "G2.add_edges_from(edgeList)    "
   ]
  },
  {
   "cell_type": "code",
   "execution_count": 39,
   "metadata": {},
   "outputs": [
    {
     "data": {
      "text/plain": [
       "[('Addam-Marbrand', 'Jaime-Lannister'),\n",
       " ('Addam-Marbrand', 'Tywin-Lannister'),\n",
       " ('Aegon-I-Targaryen', 'Daenerys-Targaryen'),\n",
       " ('Aegon-I-Targaryen', 'Eddard-Stark'),\n",
       " ('Aemon-Targaryen-(Maester-Aemon)', 'Alliser-Thorne'),\n",
       " ('Aemon-Targaryen-(Maester-Aemon)', 'Bowen-Marsh'),\n",
       " ('Aemon-Targaryen-(Maester-Aemon)', 'Chett'),\n",
       " ('Aemon-Targaryen-(Maester-Aemon)', 'Clydas'),\n",
       " ('Aemon-Targaryen-(Maester-Aemon)', 'Jeor-Mormont'),\n",
       " ('Aemon-Targaryen-(Maester-Aemon)', 'Jon-Snow')]"
      ]
     },
     "execution_count": 39,
     "metadata": {},
     "output_type": "execute_result"
    }
   ],
   "source": [
    "edgeList[:10]"
   ]
  },
  {
   "cell_type": "code",
   "execution_count": 37,
   "metadata": {},
   "outputs": [
    {
     "data": {
      "text/plain": [
       "NodeView(('Addam-Marbrand', 'Jaime-Lannister', 'Tywin-Lannister', 'Aegon-I-Targaryen', 'Daenerys-Targaryen', 'Eddard-Stark', 'Aemon-Targaryen-(Maester-Aemon)', 'Alliser-Thorne', 'Bowen-Marsh', 'Chett', 'Clydas', 'Jeor-Mormont', 'Jon-Snow', 'Samwell-Tarly', 'Aerys-II-Targaryen', 'Brandon-Stark', 'Gerold-Hightower', 'Jon-Arryn', 'Robert-Baratheon', 'Aggo', 'Drogo', 'Jhogo', 'Jorah-Mormont', 'Quaro', 'Rakharo', 'Albett', 'Halder', 'Rast', 'Grenn', 'Pypar', 'Tyrion-Lannister', 'Alyn', 'Harwin', 'Jory-Cassel', 'Tomard', 'Arthur-Dayne', 'Arya-Stark', 'Benjen-Stark', 'Bran-Stark', 'Catelyn-Stark', 'Cersei-Lannister', 'Desmond', 'Ilyn-Payne', 'Jeyne-Poole', 'Joffrey-Baratheon', 'Meryn-Trant', 'Mordane', 'Mycah', 'Myrcella-Baratheon', 'Petyr-Baelish', 'Rickon-Stark', 'Robb-Stark', 'Rodrik-Cassel', 'Sandor-Clegane', 'Sansa-Stark', 'Syrio-Forel', 'Tommen-Baratheon', 'Vayon-Poole', 'Yoren', 'Arys-Oakheart', 'Balon-Greyjoy', 'Balon-Swann', 'Renly-Baratheon', 'Barristan-Selmy', 'Boros-Blount', 'Pycelle', 'Varys', 'Jaremy-Rykker', 'Luwin', 'Mance-Rayder', 'Theon-Greyjoy', 'Waymar-Royce', 'Beric-Dondarrion', 'Gregor-Clegane', 'Loras-Tyrell', 'Thoros-of-Myr', 'Hali', 'Hallis-Mollen', 'Hodor', 'Hullen', 'Joseth', 'Nan', 'Osha', 'Rickard-Karstark', 'Rickard-Stark', 'Stiv', 'Lyanna-Stark', 'Bronn', 'Chiggen', 'Marillion', 'Shae', 'Shagga', 'Vardis-Egen', 'Willis-Wode', 'Brynden-Tully', 'Edmure-Tully', 'Hoster-Tully', 'Lysa-Arryn', 'Nestor-Royce', 'Walder-Frey', 'Colemon', 'Donnel-Waynwood', 'Eon-Hunter', 'Jon-Umber-(Greatjon)', 'Masha-Heddle', 'Moreo-Tumitis', 'Mya-Stone', 'Mychel-Redfort', 'Robert-Arryn', 'Stevron-Frey', 'Tytos-Blackwood', 'Wendel-Manderly', 'Cayn', 'Janos-Slynt', 'Stannis-Baratheon', 'Chella', 'Clement-Piper', 'Karyl-Vance', 'Cohollo', 'Haggo', 'Qotho', 'Conn', 'Coratt', 'Doreah', 'Eroeh', 'Illyrio-Mopatis', 'Irri', 'Jhiqui', 'Mirri-Maz-Duur', 'Rhaegar-Targaryen', 'Viserys-Targaryen', 'Danwell-Frey', 'Hosteen-Frey', 'Jared-Frey', 'Dareon', 'Daryn-Hornwood', 'Torrhen-Karstark', 'Dolf', 'Donal-Noye', 'Jommo', 'Ogo', 'Rhaego', 'Dywen', 'Galbart-Glover', 'Gendry', 'High-Septon-(fat_one)', 'Howland-Reed', 'Jacks', 'Joss', 'Marq-Piper', 'Porther', 'Raymun-Darry', 'Tobho-Mott', 'Tregar', 'Varly', 'Wyl-(guard)', 'Wylla', 'Fogo', 'Roose-Bolton', 'Gared', 'Will-(prologue)', 'Oswell-Whent', 'Todder', 'Gunthor-son-of-Gurn', 'Harys-Swyft', 'Heward', 'Hobb', 'Hugh', 'Jafer-Flowers', 'Kevan-Lannister', 'Matthar', 'Othor', 'Maege-Mormont', 'Jonos-Bracken', 'Jyck', 'Morrec', 'Kurleket', 'Lancel-Lannister', 'Leo-Lefford', 'Mace-Tyrell', 'Lyn-Corbray', 'Paxter-Redwyne', 'Maegor-I-Targaryen', 'Mord', 'Randyll-Tarly', 'Timett', 'Ulf-son-of-Umar'))"
      ]
     },
     "execution_count": 37,
     "metadata": {},
     "output_type": "execute_result"
    }
   ],
   "source": [
    "G2.nodes"
   ]
  },
  {
   "cell_type": "code",
   "execution_count": 31,
   "metadata": {},
   "outputs": [
    {
     "data": {
      "text/plain": [
       "EdgeView([('Addam-Marbrand', 'Jaime-Lannister'), ('Addam-Marbrand', 'Tywin-Lannister'), ('Jaime-Lannister', 'Aerys-II-Targaryen'), ('Jaime-Lannister', 'Barristan-Selmy'), ('Jaime-Lannister', 'Brynden-Tully'), ('Jaime-Lannister', 'Catelyn-Stark'), ('Jaime-Lannister', 'Cersei-Lannister'), ('Jaime-Lannister', 'Eddard-Stark'), ('Jaime-Lannister', 'Edmure-Tully'), ('Jaime-Lannister', 'Galbart-Glover'), ('Jaime-Lannister', 'Gregor-Clegane'), ('Jaime-Lannister', 'Harys-Swyft'), ('Jaime-Lannister', 'Joffrey-Baratheon'), ('Jaime-Lannister', 'Jon-Arryn'), ('Jaime-Lannister', 'Jory-Cassel'), ('Jaime-Lannister', 'Kevan-Lannister'), ('Jaime-Lannister', 'Loras-Tyrell'), ('Jaime-Lannister', 'Lysa-Arryn'), ('Jaime-Lannister', 'Petyr-Baelish'), ('Jaime-Lannister', 'Renly-Baratheon'), ('Jaime-Lannister', 'Rickard-Karstark'), ('Jaime-Lannister', 'Robb-Stark'), ('Jaime-Lannister', 'Robert-Baratheon'), ('Jaime-Lannister', 'Rodrik-Cassel'), ('Jaime-Lannister', 'Sandor-Clegane'), ('Jaime-Lannister', 'Sansa-Stark'), ('Jaime-Lannister', 'Tyrion-Lannister'), ('Jaime-Lannister', 'Tywin-Lannister'), ('Jaime-Lannister', 'Varys'), ('Jaime-Lannister', 'Wyl-(guard)'), ('Tywin-Lannister', 'Bronn'), ('Tywin-Lannister', 'Brynden-Tully'), ('Tywin-Lannister', 'Catelyn-Stark'), ('Tywin-Lannister', 'Cersei-Lannister'), ('Tywin-Lannister', 'Eddard-Stark'), ('Tywin-Lannister', 'Gregor-Clegane'), ('Tywin-Lannister', 'Joffrey-Baratheon'), ('Tywin-Lannister', 'Jon-Umber-(Greatjon)'), ('Tywin-Lannister', 'Kevan-Lannister'), ('Tywin-Lannister', 'Marq-Piper'), ('Tywin-Lannister', 'Pycelle'), ('Tywin-Lannister', 'Rhaegar-Targaryen'), ('Tywin-Lannister', 'Robb-Stark'), ('Tywin-Lannister', 'Robert-Baratheon'), ('Tywin-Lannister', 'Roose-Bolton'), ('Tywin-Lannister', 'Stannis-Baratheon'), ('Tywin-Lannister', 'Theon-Greyjoy'), ('Tywin-Lannister', 'Tyrion-Lannister'), ('Tywin-Lannister', 'Varys'), ('Tywin-Lannister', 'Walder-Frey'), ('Aegon-I-Targaryen', 'Daenerys-Targaryen'), ('Aegon-I-Targaryen', 'Eddard-Stark'), ('Daenerys-Targaryen', 'Aggo'), ('Daenerys-Targaryen', 'Cohollo'), ('Daenerys-Targaryen', 'Doreah'), ('Daenerys-Targaryen', 'Drogo'), ('Daenerys-Targaryen', 'Eddard-Stark'), ('Daenerys-Targaryen', 'Eroeh'), ('Daenerys-Targaryen', 'Haggo'), ('Daenerys-Targaryen', 'Illyrio-Mopatis'), ('Daenerys-Targaryen', 'Irri'), ('Daenerys-Targaryen', 'Jhiqui'), ('Daenerys-Targaryen', 'Jhogo'), ('Daenerys-Targaryen', 'Jorah-Mormont'), ('Daenerys-Targaryen', 'Mirri-Maz-Duur'), ('Daenerys-Targaryen', 'Qotho'), ('Daenerys-Targaryen', 'Quaro'), ('Daenerys-Targaryen', 'Rakharo'), ('Daenerys-Targaryen', 'Rhaegar-Targaryen'), ('Daenerys-Targaryen', 'Robert-Baratheon'), ('Daenerys-Targaryen', 'Varys'), ('Daenerys-Targaryen', 'Viserys-Targaryen'), ('Eddard-Stark', 'Aerys-II-Targaryen'), ('Eddard-Stark', 'Alyn'), ('Eddard-Stark', 'Arya-Stark'), ('Eddard-Stark', 'Balon-Greyjoy'), ('Eddard-Stark', 'Barristan-Selmy'), ('Eddard-Stark', 'Beric-Dondarrion'), ('Eddard-Stark', 'Bran-Stark'), ('Eddard-Stark', 'Brandon-Stark'), ('Eddard-Stark', 'Catelyn-Stark'), ('Eddard-Stark', 'Cayn'), ('Eddard-Stark', 'Cersei-Lannister'), ('Eddard-Stark', 'Daryn-Hornwood'), ('Eddard-Stark', 'Desmond'), ('Eddard-Stark', 'Edmure-Tully'), ('Eddard-Stark', 'Galbart-Glover'), ('Eddard-Stark', 'Gendry'), ('Eddard-Stark', 'Gerold-Hightower'), ('Eddard-Stark', 'Gregor-Clegane'), ('Eddard-Stark', 'Harwin'), ('Eddard-Stark', 'High-Septon-(fat_one)'), ('Eddard-Stark', 'Howland-Reed'), ('Eddard-Stark', 'Ilyn-Payne'), ('Eddard-Stark', 'Jacks'), ('Eddard-Stark', 'Janos-Slynt'), ('Eddard-Stark', 'Joffrey-Baratheon'), ('Eddard-Stark', 'Jon-Arryn'), ('Eddard-Stark', 'Jon-Snow'), ('Eddard-Stark', 'Jory-Cassel'), ('Eddard-Stark', 'Joss'), ('Eddard-Stark', 'Loras-Tyrell'), ('Eddard-Stark', 'Luwin'), ('Eddard-Stark', 'Lyanna-Stark'), ('Eddard-Stark', 'Lysa-Arryn'), ('Eddard-Stark', 'Marq-Piper'), ('Eddard-Stark', 'Mordane'), ('Eddard-Stark', 'Mycah'), ('Eddard-Stark', 'Petyr-Baelish'), ('Eddard-Stark', 'Porther'), ('Eddard-Stark', 'Pycelle'), ('Eddard-Stark', 'Raymun-Darry'), ('Eddard-Stark', 'Renly-Baratheon'), ('Eddard-Stark', 'Rhaegar-Targaryen'), ('Eddard-Stark', 'Rickard-Karstark'), ('Eddard-Stark', 'Rickon-Stark'), ('Eddard-Stark', 'Robb-Stark'), ('Eddard-Stark', 'Robert-Baratheon'), ('Eddard-Stark', 'Rodrik-Cassel'), ('Eddard-Stark', 'Sandor-Clegane'), ('Eddard-Stark', 'Sansa-Stark'), ('Eddard-Stark', 'Stannis-Baratheon'), ('Eddard-Stark', 'Syrio-Forel'), ('Eddard-Stark', 'Theon-Greyjoy'), ('Eddard-Stark', 'Tobho-Mott'), ('Eddard-Stark', 'Tomard'), ('Eddard-Stark', 'Torrhen-Karstark'), ('Eddard-Stark', 'Tregar'), ('Eddard-Stark', 'Tyrion-Lannister'), ('Eddard-Stark', 'Varly'), ('Eddard-Stark', 'Varys'), ('Eddard-Stark', 'Vayon-Poole'), ('Eddard-Stark', 'Wyl-(guard)'), ('Eddard-Stark', 'Wylla'), ('Aemon-Targaryen-(Maester-Aemon)', 'Alliser-Thorne'), ('Aemon-Targaryen-(Maester-Aemon)', 'Bowen-Marsh'), ('Aemon-Targaryen-(Maester-Aemon)', 'Chett'), ('Aemon-Targaryen-(Maester-Aemon)', 'Clydas'), ('Aemon-Targaryen-(Maester-Aemon)', 'Jeor-Mormont'), ('Aemon-Targaryen-(Maester-Aemon)', 'Jon-Snow'), ('Aemon-Targaryen-(Maester-Aemon)', 'Samwell-Tarly'), ('Alliser-Thorne', 'Bowen-Marsh'), ('Alliser-Thorne', 'Grenn'), ('Alliser-Thorne', 'Halder'), ('Alliser-Thorne', 'Jeor-Mormont'), ('Alliser-Thorne', 'Jon-Snow'), ('Alliser-Thorne', 'Pypar'), ('Alliser-Thorne', 'Rast'), ('Alliser-Thorne', 'Samwell-Tarly'), ('Alliser-Thorne', 'Tyrion-Lannister'), ('Bowen-Marsh', 'Jeor-Mormont'), ('Bowen-Marsh', 'Jon-Snow'), ('Bowen-Marsh', 'Samwell-Tarly'), ('Chett', 'Jon-Snow'), ('Chett', 'Samwell-Tarly'), ('Jeor-Mormont', 'Benjen-Stark'), ('Jeor-Mormont', 'Bran-Stark'), ('Jeor-Mormont', 'Gared'), ('Jeor-Mormont', 'Grenn'), ('Jeor-Mormont', 'Jaremy-Rykker'), ('Jeor-Mormont', 'Jon-Snow'), ('Jeor-Mormont', 'Robert-Baratheon'), ('Jeor-Mormont', 'Samwell-Tarly'), ('Jeor-Mormont', 'Tyrion-Lannister'), ('Jeor-Mormont', 'Yoren'), ('Jon-Snow', 'Albett'), ('Jon-Snow', 'Arya-Stark'), ('Jon-Snow', 'Benjen-Stark'), ('Jon-Snow', 'Bran-Stark'), ('Jon-Snow', 'Catelyn-Stark'), ('Jon-Snow', 'Cersei-Lannister'), ('Jon-Snow', 'Dareon'), ('Jon-Snow', 'Donal-Noye'), ('Jon-Snow', 'Dywen'), ('Jon-Snow', 'Grenn'), ('Jon-Snow', 'Halder'), ('Jon-Snow', 'Hobb'), ('Jon-Snow', 'Jaremy-Rykker'), ('Jon-Snow', 'Joffrey-Baratheon'), ('Jon-Snow', 'Jory-Cassel'), ('Jon-Snow', 'Luwin'), ('Jon-Snow', 'Matthar'), ('Jon-Snow', 'Mordane'), ('Jon-Snow', 'Othor'), ('Jon-Snow', 'Pypar'), ('Jon-Snow', 'Rast'), ('Jon-Snow', 'Rickon-Stark'), ('Jon-Snow', 'Robb-Stark'), ('Jon-Snow', 'Robert-Baratheon'), ('Jon-Snow', 'Rodrik-Cassel'), ('Jon-Snow', 'Samwell-Tarly'), ('Jon-Snow', 'Sansa-Stark'), ('Jon-Snow', 'Theon-Greyjoy'), ('Jon-Snow', 'Todder'), ('Jon-Snow', 'Tyrion-Lannister'), ('Jon-Snow', 'Yoren'), ('Samwell-Tarly', 'Grenn'), ('Samwell-Tarly', 'Halder'), ('Samwell-Tarly', 'Pypar'), ('Samwell-Tarly', 'Randyll-Tarly'), ('Samwell-Tarly', 'Rast'), ('Samwell-Tarly', 'Robb-Stark'), ('Aerys-II-Targaryen', 'Brandon-Stark'), ('Aerys-II-Targaryen', 'Gerold-Hightower'), ('Aerys-II-Targaryen', 'Jon-Arryn'), ('Aerys-II-Targaryen', 'Robert-Baratheon'), ('Brandon-Stark', 'Lyanna-Stark'), ('Brandon-Stark', 'Petyr-Baelish'), ('Brandon-Stark', 'Rickard-Stark'), ('Brandon-Stark', 'Robert-Baratheon'), ('Gerold-Hightower', 'Arthur-Dayne'), ('Gerold-Hightower', 'Oswell-Whent'), ('Gerold-Hightower', 'Robert-Baratheon'), ('Jon-Arryn', 'Barristan-Selmy'), ('Jon-Arryn', 'Bran-Stark'), ('Jon-Arryn', 'Catelyn-Stark'), ('Jon-Arryn', 'Cersei-Lannister'), ('Jon-Arryn', 'Hugh'), ('Jon-Arryn', 'Lysa-Arryn'), ('Jon-Arryn', 'Petyr-Baelish'), ('Jon-Arryn', 'Pycelle'), ('Jon-Arryn', 'Robert-Baratheon'), ('Jon-Arryn', 'Stannis-Baratheon'), ('Jon-Arryn', 'Tyrion-Lannister'), ('Jon-Arryn', 'Varys'), ('Robert-Baratheon', 'Alyn'), ('Robert-Baratheon', 'Arya-Stark'), ('Robert-Baratheon', 'Balon-Greyjoy'), ('Robert-Baratheon', 'Barristan-Selmy'), ('Robert-Baratheon', 'Benjen-Stark'), ('Robert-Baratheon', 'Beric-Dondarrion'), ('Robert-Baratheon', 'Bran-Stark'), ('Robert-Baratheon', 'Catelyn-Stark'), ('Robert-Baratheon', 'Cersei-Lannister'), ('Robert-Baratheon', 'Drogo'), ('Robert-Baratheon', 'Gregor-Clegane'), ('Robert-Baratheon', 'Hoster-Tully'), ('Robert-Baratheon', 'Illyrio-Mopatis'), ('Robert-Baratheon', 'Ilyn-Payne'), ('Robert-Baratheon', 'Janos-Slynt'), ('Robert-Baratheon', 'Jeyne-Poole'), ('Robert-Baratheon', 'Joffrey-Baratheon'), ('Robert-Baratheon', 'Jorah-Mormont'), ('Robert-Baratheon', 'Jory-Cassel'), ('Robert-Baratheon', 'Lancel-Lannister'), ('Robert-Baratheon', 'Loras-Tyrell'), ('Robert-Baratheon', 'Lyanna-Stark'), ('Robert-Baratheon', 'Lysa-Arryn'), ('Robert-Baratheon', 'Meryn-Trant'), ('Robert-Baratheon', 'Mordane'), ('Robert-Baratheon', 'Myrcella-Baratheon'), ('Robert-Baratheon', 'Petyr-Baelish'), ('Robert-Baratheon', 'Pycelle'), ('Robert-Baratheon', 'Raymun-Darry'), ('Robert-Baratheon', 'Renly-Baratheon'), ('Robert-Baratheon', 'Rhaegar-Targaryen'), ('Robert-Baratheon', 'Robb-Stark'), ('Robert-Baratheon', 'Sandor-Clegane'), ('Robert-Baratheon', 'Sansa-Stark'), ('Robert-Baratheon', 'Stannis-Baratheon'), ('Robert-Baratheon', 'Tommen-Baratheon'), ('Robert-Baratheon', 'Tyrion-Lannister'), ('Robert-Baratheon', 'Varys'), ('Robert-Baratheon', 'Vayon-Poole'), ('Robert-Baratheon', 'Viserys-Targaryen'), ('Aggo', 'Drogo'), ('Aggo', 'Jhogo'), ('Aggo', 'Jorah-Mormont'), ('Aggo', 'Quaro'), ('Aggo', 'Rakharo'), ('Drogo', 'Cohollo'), ('Drogo', 'Doreah'), ('Drogo', 'Haggo'), ('Drogo', 'Illyrio-Mopatis'), ('Drogo', 'Irri'), ('Drogo', 'Jhiqui'), ('Drogo', 'Jhogo'), ('Drogo', 'Jommo'), ('Drogo', 'Jorah-Mormont'), ('Drogo', 'Mirri-Maz-Duur'), ('Drogo', 'Ogo'), ('Drogo', 'Qotho'), ('Drogo', 'Quaro'), ('Drogo', 'Rakharo'), ('Drogo', 'Rhaego'), ('Drogo', 'Viserys-Targaryen'), ('Jhogo', 'Irri'), ('Jhogo', 'Jorah-Mormont'), ('Jhogo', 'Mirri-Maz-Duur'), ('Jorah-Mormont', 'Doreah'), ('Jorah-Mormont', 'Illyrio-Mopatis'), ('Jorah-Mormont', 'Irri'), ('Jorah-Mormont', 'Jhiqui'), ('Jorah-Mormont', 'Mirri-Maz-Duur'), ('Jorah-Mormont', 'Qotho'), ('Jorah-Mormont', 'Rhaegar-Targaryen'), ('Jorah-Mormont', 'Viserys-Targaryen'), ('Quaro', 'Qotho'), ('Quaro', 'Rakharo'), ('Rakharo', 'Haggo'), ('Albett', 'Halder'), ('Albett', 'Rast'), ('Halder', 'Grenn'), ('Halder', 'Pypar'), ('Halder', 'Rast'), ('Halder', 'Todder'), ('Rast', 'Pypar'), ('Grenn', 'Pypar'), ('Grenn', 'Todder'), ('Pypar', 'Todder'), ('Tyrion-Lannister', 'Benjen-Stark'), ('Tyrion-Lannister', 'Bran-Stark'), ('Tyrion-Lannister', 'Bronn'), ('Tyrion-Lannister', 'Brynden-Tully'), ('Tyrion-Lannister', 'Catelyn-Stark'), ('Tyrion-Lannister', 'Cersei-Lannister'), ('Tyrion-Lannister', 'Chella'), ('Tyrion-Lannister', 'Chiggen'), ('Tyrion-Lannister', 'Conn'), ('Tyrion-Lannister', 'Gregor-Clegane'), ('Tyrion-Lannister', 'Gunthor-son-of-Gurn'), ('Tyrion-Lannister', 'Joffrey-Baratheon'), ('Tyrion-Lannister', 'Jyck'), ('Tyrion-Lannister', 'Kevan-Lannister'), ('Tyrion-Lannister', 'Kurleket'), ('Tyrion-Lannister', 'Leo-Lefford'), ('Tyrion-Lannister', 'Luwin'), ('Tyrion-Lannister', 'Lysa-Arryn'), ('Tyrion-Lannister', 'Marillion'), ('Tyrion-Lannister', 'Mord'), ('Tyrion-Lannister', 'Morrec'), ('Tyrion-Lannister', 'Petyr-Baelish'), ('Tyrion-Lannister', 'Renly-Baratheon'), ('Tyrion-Lannister', 'Rickon-Stark'), ('Tyrion-Lannister', 'Robb-Stark'), ('Tyrion-Lannister', 'Robert-Arryn'), ('Tyrion-Lannister', 'Rodrik-Cassel'), ('Tyrion-Lannister', 'Sandor-Clegane'), ('Tyrion-Lannister', 'Sansa-Stark'), ('Tyrion-Lannister', 'Shae'), ('Tyrion-Lannister', 'Shagga'), ('Tyrion-Lannister', 'Theon-Greyjoy'), ('Tyrion-Lannister', 'Timett'), ('Tyrion-Lannister', 'Tommen-Baratheon'), ('Tyrion-Lannister', 'Vardis-Egen'), ('Tyrion-Lannister', 'Varys'), ('Tyrion-Lannister', 'Willis-Wode'), ('Tyrion-Lannister', 'Yoren'), ('Alyn', 'Harwin'), ('Alyn', 'Jory-Cassel'), ('Alyn', 'Tomard'), ('Harwin', 'Hullen'), ('Harwin', 'Jory-Cassel'), ('Jory-Cassel', 'Arya-Stark'), ('Jory-Cassel', 'Bran-Stark'), ('Jory-Cassel', 'Cersei-Lannister'), ('Jory-Cassel', 'Heward'), ('Jory-Cassel', 'Hullen'), ('Jory-Cassel', 'Mordane'), ('Jory-Cassel', 'Petyr-Baelish'), ('Jory-Cassel', 'Robb-Stark'), ('Jory-Cassel', 'Rodrik-Cassel'), ('Jory-Cassel', 'Sansa-Stark'), ('Jory-Cassel', 'Stannis-Baratheon'), ('Jory-Cassel', 'Theon-Greyjoy'), ('Jory-Cassel', 'Tomard'), ('Jory-Cassel', 'Vayon-Poole'), ('Jory-Cassel', 'Wyl-(guard)'), ('Tomard', 'Arya-Stark'), ('Tomard', 'Cayn'), ('Tomard', 'Petyr-Baelish'), ('Tomard', 'Sansa-Stark'), ('Arya-Stark', 'Benjen-Stark'), ('Arya-Stark', 'Bran-Stark'), ('Arya-Stark', 'Catelyn-Stark'), ('Arya-Stark', 'Cersei-Lannister'), ('Arya-Stark', 'Desmond'), ('Arya-Stark', 'Ilyn-Payne'), ('Arya-Stark', 'Jeyne-Poole'), ('Arya-Stark', 'Joffrey-Baratheon'), ('Arya-Stark', 'Meryn-Trant'), ('Arya-Stark', 'Mordane'), ('Arya-Stark', 'Mycah'), ('Arya-Stark', 'Myrcella-Baratheon'), ('Arya-Stark', 'Petyr-Baelish'), ('Arya-Stark', 'Rickon-Stark'), ('Arya-Stark', 'Robb-Stark'), ('Arya-Stark', 'Rodrik-Cassel'), ('Arya-Stark', 'Sandor-Clegane'), ('Arya-Stark', 'Sansa-Stark'), ('Arya-Stark', 'Syrio-Forel'), ('Arya-Stark', 'Tommen-Baratheon'), ('Arya-Stark', 'Vayon-Poole'), ('Arya-Stark', 'Yoren'), ('Benjen-Stark', 'Bran-Stark'), ('Benjen-Stark', 'Cersei-Lannister'), ('Benjen-Stark', 'Jaremy-Rykker'), ('Benjen-Stark', 'Luwin'), ('Benjen-Stark', 'Mance-Rayder'), ('Benjen-Stark', 'Robb-Stark'), ('Benjen-Stark', 'Theon-Greyjoy'), ('Benjen-Stark', 'Waymar-Royce'), ('Benjen-Stark', 'Yoren'), ('Bran-Stark', 'Catelyn-Stark'), ('Bran-Stark', 'Cersei-Lannister'), ('Bran-Stark', 'Hali'), ('Bran-Stark', 'Hallis-Mollen'), ('Bran-Stark', 'Hodor'), ('Bran-Stark', 'Hullen'), ('Bran-Stark', 'Joffrey-Baratheon'), ('Bran-Stark', 'Joseth'), ('Bran-Stark', 'Luwin'), ('Bran-Stark', 'Nan'), ('Bran-Stark', 'Osha'), ('Bran-Stark', 'Petyr-Baelish'), ('Bran-Stark', 'Renly-Baratheon'), ('Bran-Stark', 'Rickard-Karstark'), ('Bran-Stark', 'Rickard-Stark'), ('Bran-Stark', 'Rickon-Stark'), ('Bran-Stark', 'Robb-Stark'), ('Bran-Stark', 'Rodrik-Cassel'), ('Bran-Stark', 'Sansa-Stark'), ('Bran-Stark', 'Stiv'), ('Bran-Stark', 'Theon-Greyjoy'), ('Bran-Stark', 'Tommen-Baratheon'), ('Bran-Stark', 'Yoren'), ('Catelyn-Stark', 'Bronn'), ('Catelyn-Stark', 'Brynden-Tully'), ('Catelyn-Stark', 'Cersei-Lannister'), ('Catelyn-Stark', 'Colemon'), ('Catelyn-Stark', 'Donnel-Waynwood'), ('Catelyn-Stark', 'Edmure-Tully'), ('Catelyn-Stark', 'Eon-Hunter'), ('Catelyn-Stark', 'Hallis-Mollen'), ('Catelyn-Stark', 'Hoster-Tully'), ('Catelyn-Stark', 'Joffrey-Baratheon'), ('Catelyn-Stark', 'Jon-Umber-(Greatjon)'), ('Catelyn-Stark', 'Luwin'), ('Catelyn-Stark', 'Lysa-Arryn'), ('Catelyn-Stark', 'Marillion'), ('Catelyn-Stark', 'Masha-Heddle'), ('Catelyn-Stark', 'Moreo-Tumitis'), ('Catelyn-Stark', 'Mya-Stone'), ('Catelyn-Stark', 'Mychel-Redfort'), ('Catelyn-Stark', 'Nestor-Royce'), ('Catelyn-Stark', 'Petyr-Baelish'), ('Catelyn-Stark', 'Rickard-Karstark'), ('Catelyn-Stark', 'Rickon-Stark'), ('Catelyn-Stark', 'Robb-Stark'), ('Catelyn-Stark', 'Robert-Arryn'), ('Catelyn-Stark', 'Rodrik-Cassel'), ('Catelyn-Stark', 'Sansa-Stark'), ('Catelyn-Stark', 'Stevron-Frey'), ('Catelyn-Stark', 'Theon-Greyjoy'), ('Catelyn-Stark', 'Tytos-Blackwood'), ('Catelyn-Stark', 'Vardis-Egen'), ('Catelyn-Stark', 'Varys'), ('Catelyn-Stark', 'Walder-Frey'), ('Catelyn-Stark', 'Wendel-Manderly'), ('Catelyn-Stark', 'Willis-Wode'), ('Cersei-Lannister', 'Arys-Oakheart'), ('Cersei-Lannister', 'Barristan-Selmy'), ('Cersei-Lannister', 'Boros-Blount'), ('Cersei-Lannister', 'Ilyn-Payne'), ('Cersei-Lannister', 'Janos-Slynt'), ('Cersei-Lannister', 'Joffrey-Baratheon'), ('Cersei-Lannister', 'Meryn-Trant'), ('Cersei-Lannister', 'Mordane'), ('Cersei-Lannister', 'Myrcella-Baratheon'), ('Cersei-Lannister', 'Petyr-Baelish'), ('Cersei-Lannister', 'Pycelle'), ('Cersei-Lannister', 'Renly-Baratheon'), ('Cersei-Lannister', 'Sandor-Clegane'), ('Cersei-Lannister', 'Sansa-Stark'), ('Cersei-Lannister', 'Stannis-Baratheon'), ('Cersei-Lannister', 'Tommen-Baratheon'), ('Cersei-Lannister', 'Varys'), ('Cersei-Lannister', 'Vayon-Poole'), ('Ilyn-Payne', 'Jeyne-Poole'), ('Ilyn-Payne', 'Joffrey-Baratheon'), ('Ilyn-Payne', 'Loras-Tyrell'), ('Ilyn-Payne', 'Sansa-Stark'), ('Ilyn-Payne', 'Varys'), ('Jeyne-Poole', 'Loras-Tyrell'), ('Jeyne-Poole', 'Mordane'), ('Jeyne-Poole', 'Sansa-Stark'), ('Joffrey-Baratheon', 'Barristan-Selmy'), ('Joffrey-Baratheon', 'Boros-Blount'), ('Joffrey-Baratheon', 'High-Septon-(fat_one)'), ('Joffrey-Baratheon', 'Janos-Slynt'), ('Joffrey-Baratheon', 'Loras-Tyrell'), ('Joffrey-Baratheon', 'Meryn-Trant'), ('Joffrey-Baratheon', 'Mordane'), ('Joffrey-Baratheon', 'Mycah'), ('Joffrey-Baratheon', 'Myrcella-Baratheon'), ('Joffrey-Baratheon', 'Petyr-Baelish'), ('Joffrey-Baratheon', 'Pycelle'), ('Joffrey-Baratheon', 'Renly-Baratheon'), ('Joffrey-Baratheon', 'Robb-Stark'), ('Joffrey-Baratheon', 'Rodrik-Cassel'), ('Joffrey-Baratheon', 'Sandor-Clegane'), ('Joffrey-Baratheon', 'Sansa-Stark'), ('Joffrey-Baratheon', 'Stannis-Baratheon'), ('Joffrey-Baratheon', 'Tommen-Baratheon'), ('Joffrey-Baratheon', 'Varys'), ('Meryn-Trant', 'Barristan-Selmy'), ('Meryn-Trant', 'Boros-Blount'), ('Meryn-Trant', 'Sandor-Clegane'), ('Meryn-Trant', 'Sansa-Stark'), ('Meryn-Trant', 'Syrio-Forel'), ('Mordane', 'Myrcella-Baratheon'), ('Mordane', 'Petyr-Baelish'), ('Mordane', 'Sansa-Stark'), ('Mycah', 'Sandor-Clegane'), ('Mycah', 'Sansa-Stark'), ('Myrcella-Baratheon', 'Sansa-Stark'), ('Myrcella-Baratheon', 'Tommen-Baratheon'), ('Petyr-Baelish', 'Barristan-Selmy'), ('Petyr-Baelish', 'Edmure-Tully'), ('Petyr-Baelish', 'Gregor-Clegane'), ('Petyr-Baelish', 'Janos-Slynt'), ('Petyr-Baelish', 'Loras-Tyrell'), ('Petyr-Baelish', 'Lysa-Arryn'), ('Petyr-Baelish', 'Pycelle'), ('Petyr-Baelish', 'Renly-Baratheon'), ('Petyr-Baelish', 'Rodrik-Cassel'), ('Petyr-Baelish', 'Sandor-Clegane'), ('Petyr-Baelish', 'Sansa-Stark'), ('Petyr-Baelish', 'Varys'), ('Rickon-Stark', 'Luwin'), ('Rickon-Stark', 'Robb-Stark'), ('Rickon-Stark', 'Sansa-Stark'), ('Robb-Stark', 'Brynden-Tully'), ('Robb-Stark', 'Edmure-Tully'), ('Robb-Stark', 'Galbart-Glover'), ('Robb-Stark', 'Hallis-Mollen'), ('Robb-Stark', 'Hodor'), ('Robb-Stark', 'Hullen'), ('Robb-Stark', 'Jon-Umber-(Greatjon)'), ('Robb-Stark', 'Luwin'), ('Robb-Stark', 'Nan'), ('Robb-Stark', 'Osha'), ('Robb-Stark', 'Renly-Baratheon'), ('Robb-Stark', 'Rickard-Karstark'), ('Robb-Stark', 'Rodrik-Cassel'), ('Robb-Stark', 'Roose-Bolton'), ('Robb-Stark', 'Sansa-Stark'), ('Robb-Stark', 'Stiv'), ('Robb-Stark', 'Theon-Greyjoy'), ('Robb-Stark', 'Torrhen-Karstark'), ('Robb-Stark', 'Walder-Frey'), ('Robb-Stark', 'Wendel-Manderly'), ('Robb-Stark', 'Yoren'), ('Rodrik-Cassel', 'Bronn'), ('Rodrik-Cassel', 'Hullen'), ('Rodrik-Cassel', 'Loras-Tyrell'), ('Rodrik-Cassel', 'Luwin'), ('Rodrik-Cassel', 'Marillion'), ('Rodrik-Cassel', 'Theon-Greyjoy'), ('Rodrik-Cassel', 'Willis-Wode'), ('Sandor-Clegane', 'Balon-Swann'), ('Sandor-Clegane', 'Barristan-Selmy'), ('Sandor-Clegane', 'Gregor-Clegane'), ('Sandor-Clegane', 'Loras-Tyrell'), ('Sandor-Clegane', 'Renly-Baratheon'), ('Sandor-Clegane', 'Sansa-Stark'), ('Sansa-Stark', 'Barristan-Selmy'), ('Sansa-Stark', 'Beric-Dondarrion'), ('Sansa-Stark', 'Boros-Blount'), ('Sansa-Stark', 'Gregor-Clegane'), ('Sansa-Stark', 'Janos-Slynt'), ('Sansa-Stark', 'Loras-Tyrell'), ('Sansa-Stark', 'Lyanna-Stark'), ('Sansa-Stark', 'Maegor-I-Targaryen'), ('Sansa-Stark', 'Pycelle'), ('Sansa-Stark', 'Renly-Baratheon'), ('Sansa-Stark', 'Rhaegar-Targaryen'), ('Sansa-Stark', 'Stannis-Baratheon'), ('Sansa-Stark', 'Varys'), ('Tommen-Baratheon', 'Luwin'), ('Balon-Swann', 'Renly-Baratheon'), ('Renly-Baratheon', 'Barristan-Selmy'), ('Renly-Baratheon', 'Cayn'), ('Renly-Baratheon', 'Loras-Tyrell'), ('Renly-Baratheon', 'Pycelle'), ('Renly-Baratheon', 'Stannis-Baratheon'), ('Renly-Baratheon', 'Varys'), ('Barristan-Selmy', 'Boros-Blount'), ('Barristan-Selmy', 'Pycelle'), ('Barristan-Selmy', 'Varys'), ('Pycelle', 'Gregor-Clegane'), ('Pycelle', 'Janos-Slynt'), ('Pycelle', 'Stannis-Baratheon'), ('Pycelle', 'Varys'), ('Varys', 'Stannis-Baratheon'), ('Jaremy-Rykker', 'Jafer-Flowers'), ('Luwin', 'Hallis-Mollen'), ('Luwin', 'Hodor'), ('Luwin', 'Hullen'), ('Luwin', 'Joseth'), ('Luwin', 'Nan'), ('Luwin', 'Osha'), ('Luwin', 'Rickard-Karstark'), ('Luwin', 'Theon-Greyjoy'), ('Theon-Greyjoy', 'Brynden-Tully'), ('Theon-Greyjoy', 'Hallis-Mollen'), ('Theon-Greyjoy', 'Jon-Umber-(Greatjon)'), ('Theon-Greyjoy', 'Walder-Frey'), ('Waymar-Royce', 'Gared'), ('Waymar-Royce', 'Will-(prologue)'), ('Beric-Dondarrion', 'Gregor-Clegane'), ('Beric-Dondarrion', 'Loras-Tyrell'), ('Beric-Dondarrion', 'Thoros-of-Myr'), ('Gregor-Clegane', 'Loras-Tyrell'), ('Gregor-Clegane', 'Marq-Piper'), ('Loras-Tyrell', 'Mace-Tyrell'), ('Hodor', 'Nan'), ('Rickard-Karstark', 'Galbart-Glover'), ('Rickard-Karstark', 'Jon-Umber-(Greatjon)'), ('Rickard-Karstark', 'Maege-Mormont'), ('Rickard-Karstark', 'Roose-Bolton'), ('Bronn', 'Chiggen'), ('Bronn', 'Marillion'), ('Bronn', 'Shae'), ('Bronn', 'Shagga'), ('Bronn', 'Vardis-Egen'), ('Bronn', 'Willis-Wode'), ('Chiggen', 'Willis-Wode'), ('Marillion', 'Willis-Wode'), ('Shagga', 'Conn'), ('Shagga', 'Dolf'), ('Shagga', 'Timett'), ('Shagga', 'Ulf-son-of-Umar'), ('Vardis-Egen', 'Colemon'), ('Vardis-Egen', 'Eon-Hunter'), ('Vardis-Egen', 'Lysa-Arryn'), ('Brynden-Tully', 'Edmure-Tully'), ('Brynden-Tully', 'Hoster-Tully'), ('Brynden-Tully', 'Lysa-Arryn'), ('Brynden-Tully', 'Nestor-Royce'), ('Brynden-Tully', 'Walder-Frey'), ('Edmure-Tully', 'Hoster-Tully'), ('Edmure-Tully', 'Karyl-Vance'), ('Edmure-Tully', 'Lysa-Arryn'), ('Edmure-Tully', 'Marq-Piper'), ('Edmure-Tully', 'Tytos-Blackwood'), ('Hoster-Tully', 'Lysa-Arryn'), ('Lysa-Arryn', 'Eon-Hunter'), ('Lysa-Arryn', 'Lyn-Corbray'), ('Lysa-Arryn', 'Robert-Arryn'), ('Lysa-Arryn', 'Stannis-Baratheon'), ('Walder-Frey', 'Danwell-Frey'), ('Walder-Frey', 'Stevron-Frey'), ('Jon-Umber-(Greatjon)', 'Galbart-Glover'), ('Jon-Umber-(Greatjon)', 'Maege-Mormont'), ('Jon-Umber-(Greatjon)', 'Roose-Bolton'), ('Tytos-Blackwood', 'Jonos-Bracken'), ('Clement-Piper', 'Karyl-Vance'), ('Karyl-Vance', 'Marq-Piper'), ('Cohollo', 'Haggo'), ('Cohollo', 'Qotho'), ('Haggo', 'Mirri-Maz-Duur'), ('Haggo', 'Qotho'), ('Qotho', 'Mirri-Maz-Duur'), ('Conn', 'Coratt'), ('Doreah', 'Irri'), ('Doreah', 'Jhiqui'), ('Doreah', 'Viserys-Targaryen'), ('Illyrio-Mopatis', 'Irri'), ('Illyrio-Mopatis', 'Viserys-Targaryen'), ('Irri', 'Jhiqui'), ('Irri', 'Viserys-Targaryen'), ('Rhaegar-Targaryen', 'Viserys-Targaryen'), ('Danwell-Frey', 'Hosteen-Frey'), ('Danwell-Frey', 'Jared-Frey'), ('Hosteen-Frey', 'Jared-Frey'), ('Daryn-Hornwood', 'Torrhen-Karstark'), ('Jommo', 'Ogo'), ('Ogo', 'Fogo'), ('Galbart-Glover', 'Roose-Bolton'), ('Wyl-(guard)', 'Heward'), ('Gared', 'Will-(prologue)'), ('Jyck', 'Morrec'), ('Mace-Tyrell', 'Paxter-Redwyne')])"
      ]
     },
     "execution_count": 31,
     "metadata": {},
     "output_type": "execute_result"
    }
   ],
   "source": [
    "G1.edges"
   ]
  },
  {
   "cell_type": "markdown",
   "metadata": {},
   "source": [
    "## Preliminaries"
   ]
  },
  {
   "cell_type": "code",
   "execution_count": null,
   "metadata": {},
   "outputs": [],
   "source": [
    "!pip install networkx"
   ]
  },
  {
   "cell_type": "code",
   "execution_count": 2,
   "metadata": {},
   "outputs": [],
   "source": [
    "import networkx as nx\n",
    "import matplotlib.pyplot as plt\n",
    "#import nxviz as nv\n",
    "from collections import Counter\n",
    "import numpy as np\n",
    "import warnings\n",
    "warnings.filterwarnings('ignore')\n",
    "\n",
    "%matplotlib inline"
   ]
  },
  {
   "cell_type": "code",
   "execution_count": 3,
   "metadata": {},
   "outputs": [],
   "source": [
    "# create empty network\n",
    "G = nx.Graph()"
   ]
  },
  {
   "cell_type": "code",
   "execution_count": 4,
   "metadata": {},
   "outputs": [
    {
     "data": {
      "text/plain": [
       "<networkx.classes.graph.Graph at 0x822118190>"
      ]
     },
     "execution_count": 4,
     "metadata": {},
     "output_type": "execute_result"
    }
   ],
   "source": [
    "G"
   ]
  },
  {
   "cell_type": "code",
   "execution_count": 8,
   "metadata": {},
   "outputs": [],
   "source": [
    "# add one node with label '1'\n",
    "G.add_node(1)"
   ]
  },
  {
   "cell_type": "code",
   "execution_count": null,
   "metadata": {},
   "outputs": [],
   "source": []
  },
  {
   "cell_type": "code",
   "execution_count": 9,
   "metadata": {},
   "outputs": [],
   "source": [
    "# add nodes from a list of elements\n",
    "G.add_nodes_from(['Mary', 4, 'Alice', 'Mary'])"
   ]
  },
  {
   "cell_type": "code",
   "execution_count": null,
   "metadata": {},
   "outputs": [],
   "source": []
  },
  {
   "cell_type": "code",
   "execution_count": 10,
   "metadata": {},
   "outputs": [
    {
     "data": {
      "text/plain": [
       "NodeView(('Mary', 4, 'Alice', 1))"
      ]
     },
     "execution_count": 10,
     "metadata": {},
     "output_type": "execute_result"
    }
   ],
   "source": [
    "G.nodes"
   ]
  },
  {
   "cell_type": "code",
   "execution_count": 18,
   "metadata": {},
   "outputs": [],
   "source": [
    "# add single edge - tuple of nodes (source, target)\n",
    "# this also adds nodes if they don't already exist\n",
    "G.add_edge('Mary','Steven')\n",
    "G.add_edge('Alice','Steven')\n"
   ]
  },
  {
   "cell_type": "code",
   "execution_count": 19,
   "metadata": {},
   "outputs": [
    {
     "data": {
      "text/plain": [
       "(NodeView(('Mary', 4, 'Alice', 1, 'Steven')),\n",
       " EdgeView([('Mary', 'Steven'), ('Alice', 'Steven')]))"
      ]
     },
     "execution_count": 19,
     "metadata": {},
     "output_type": "execute_result"
    }
   ],
   "source": [
    "G.nodes, G.edges"
   ]
  },
  {
   "cell_type": "code",
   "execution_count": 20,
   "metadata": {},
   "outputs": [
    {
     "data": {
      "image/png": "[encoded data removed]",
      "text/plain": [
       "<Figure size 432x288 with 1 Axes>"
      ]
     },
     "metadata": {},
     "output_type": "display_data"
    }
   ],
   "source": [
    "nx.draw(G, with_labels=True)"
   ]
  },
  {
   "cell_type": "code",
   "execution_count": 8,
   "metadata": {},
   "outputs": [],
   "source": [
    "# add multiple of edges (list of tuples)\n",
    "G.add_edges_from([('Mary', 'Steven') , ('Mary', 'Alice')])"
   ]
  },
  {
   "cell_type": "code",
   "execution_count": 9,
   "metadata": {},
   "outputs": [
    {
     "data": {
      "text/plain": [
       "EdgeView([('Mary', 'Steven'), ('Mary', 'Alice')])"
      ]
     },
     "execution_count": 9,
     "metadata": {},
     "output_type": "execute_result"
    }
   ],
   "source": [
    "# view edges in network G\n",
    "G.edges"
   ]
  },
  {
   "cell_type": "code",
   "execution_count": 10,
   "metadata": {},
   "outputs": [],
   "source": [
    "# remove edge\n",
    "G.remove_edge('Mary','Alice')"
   ]
  },
  {
   "cell_type": "code",
   "execution_count": 11,
   "metadata": {},
   "outputs": [],
   "source": [
    "# remove multiple edges (list of tuples)\n",
    "G.remove_edges_from([('Mary', 'Steven') , ('Mary', 'Alice')])"
   ]
  },
  {
   "cell_type": "code",
   "execution_count": 6,
   "metadata": {},
   "outputs": [
    {
     "data": {
      "text/plain": [
       "3"
      ]
     },
     "execution_count": 6,
     "metadata": {},
     "output_type": "execute_result"
    }
   ],
   "source": [
    "# get number of nodes in network G\n",
    "G.number_of_nodes()"
   ]
  },
  {
   "cell_type": "code",
   "execution_count": 7,
   "metadata": {},
   "outputs": [
    {
     "data": {
      "text/plain": [
       "0"
      ]
     },
     "execution_count": 7,
     "metadata": {},
     "output_type": "execute_result"
    }
   ],
   "source": [
    "# get number of edges in network G\n",
    "G.number_of_edges()"
   ]
  },
  {
   "cell_type": "code",
   "execution_count": 22,
   "metadata": {},
   "outputs": [
    {
     "data": {
      "text/plain": [
       "2"
      ]
     },
     "execution_count": 22,
     "metadata": {},
     "output_type": "execute_result"
    }
   ],
   "source": [
    "# get Alice's number of neighbors (connections)\n",
    "G.degree('Steven')"
   ]
  },
  {
   "cell_type": "code",
   "execution_count": 15,
   "metadata": {},
   "outputs": [],
   "source": [
    "# empty the network\n",
    "G.clear()"
   ]
  },
  {
   "cell_type": "markdown",
   "metadata": {},
   "source": [
    "### Back to data"
   ]
  },
  {
   "cell_type": "code",
   "execution_count": 59,
   "metadata": {},
   "outputs": [],
   "source": [
    "def read_csv(filname):\n",
    "    f = [item.strip().split(\",\") for item in open(filname).readlines()]\n",
    "    G_book = nx.Graph()\n",
    "    for row in f[1:]:\n",
    "        try:\n",
    "            G_book.add_edge(row[0], row[1], weight=int(row[3]), book=int(row[4]))\n",
    "        except ValueError:\n",
    "            G_book.add_edge(row[0], row[1], weight=int(row[3]), book=0)\n",
    "    return G_book"
   ]
  },
  {
   "cell_type": "markdown",
   "metadata": {},
   "source": [
    "##### Let's load in the datasets"
   ]
  },
  {
   "cell_type": "code",
   "execution_count": 60,
   "metadata": {},
   "outputs": [],
   "source": [
    "G_book1 = read_csv('datasets/game_of_thrones_network/asoiaf-book1-edges.csv')\n",
    "G_book2 = read_csv('datasets/game_of_thrones_network/asoiaf-book2-edges.csv')\n",
    "G_book3 = read_csv('datasets/game_of_thrones_network/asoiaf-book3-edges.csv')\n",
    "G_book4 = read_csv('datasets/game_of_thrones_network/asoiaf-book4-edges.csv')\n",
    "G_book5 = read_csv('datasets/game_of_thrones_network/asoiaf-book5-edges.csv')"
   ]
  },
  {
   "cell_type": "markdown",
   "metadata": {},
   "source": [
    "The resulting DataFrame book1 has 5 columns: Source, Target, Type, weight, and book. Source and target are the two nodes that are linked by an edge. A network can have directed or undirected edges and in this network all the edges are undirected. The weight attribute of every edge tells us the number of interactions that the characters have had over the book, and the book column tells us the book number.\n",
    "\n"
   ]
  },
  {
   "cell_type": "markdown",
   "metadata": {},
   "source": [
    "Once we have the data loaded as a pandas DataFrame, it's time to create a network. We create a graph for each book. It's possible to create one MultiGraph instead of 5 graphs, but it is easier to play with different graphs."
   ]
  },
  {
   "cell_type": "markdown",
   "metadata": {},
   "source": [
    "Let's populate the graph with edges from the pandas DataFrame."
   ]
  },
  {
   "cell_type": "code",
   "execution_count": 15,
   "metadata": {},
   "outputs": [
    {
     "data": {
      "text/plain": [
       "EdgeView([('Addam-Marbrand', 'Jaime-Lannister'), ('Addam-Marbrand', 'Tywin-Lannister'), ('Jaime-Lannister', 'Aerys-II-Targaryen'), ('Jaime-Lannister', 'Barristan-Selmy'), ('Jaime-Lannister', 'Brynden-Tully'), ('Jaime-Lannister', 'Catelyn-Stark'), ('Jaime-Lannister', 'Cersei-Lannister'), ('Jaime-Lannister', 'Eddard-Stark'), ('Jaime-Lannister', 'Edmure-Tully'), ('Jaime-Lannister', 'Galbart-Glover'), ('Jaime-Lannister', 'Gregor-Clegane'), ('Jaime-Lannister', 'Harys-Swyft'), ('Jaime-Lannister', 'Joffrey-Baratheon'), ('Jaime-Lannister', 'Jon-Arryn'), ('Jaime-Lannister', 'Jory-Cassel'), ('Jaime-Lannister', 'Kevan-Lannister'), ('Jaime-Lannister', 'Loras-Tyrell'), ('Jaime-Lannister', 'Lysa-Arryn'), ('Jaime-Lannister', 'Petyr-Baelish'), ('Jaime-Lannister', 'Renly-Baratheon'), ('Jaime-Lannister', 'Rickard-Karstark'), ('Jaime-Lannister', 'Robb-Stark'), ('Jaime-Lannister', 'Robert-Baratheon'), ('Jaime-Lannister', 'Rodrik-Cassel'), ('Jaime-Lannister', 'Sandor-Clegane'), ('Jaime-Lannister', 'Sansa-Stark'), ('Jaime-Lannister', 'Tyrion-Lannister'), ('Jaime-Lannister', 'Tywin-Lannister'), ('Jaime-Lannister', 'Varys'), ('Jaime-Lannister', 'Wyl-(guard)'), ('Tywin-Lannister', 'Bronn'), ('Tywin-Lannister', 'Brynden-Tully'), ('Tywin-Lannister', 'Catelyn-Stark'), ('Tywin-Lannister', 'Cersei-Lannister'), ('Tywin-Lannister', 'Eddard-Stark'), ('Tywin-Lannister', 'Gregor-Clegane'), ('Tywin-Lannister', 'Joffrey-Baratheon'), ('Tywin-Lannister', 'Jon-Umber-(Greatjon)'), ('Tywin-Lannister', 'Kevan-Lannister'), ('Tywin-Lannister', 'Marq-Piper'), ('Tywin-Lannister', 'Pycelle'), ('Tywin-Lannister', 'Rhaegar-Targaryen'), ('Tywin-Lannister', 'Robb-Stark'), ('Tywin-Lannister', 'Robert-Baratheon'), ('Tywin-Lannister', 'Roose-Bolton'), ('Tywin-Lannister', 'Stannis-Baratheon'), ('Tywin-Lannister', 'Theon-Greyjoy'), ('Tywin-Lannister', 'Tyrion-Lannister'), ('Tywin-Lannister', 'Varys'), ('Tywin-Lannister', 'Walder-Frey'), ('Aegon-I-Targaryen', 'Daenerys-Targaryen'), ('Aegon-I-Targaryen', 'Eddard-Stark'), ('Daenerys-Targaryen', 'Aggo'), ('Daenerys-Targaryen', 'Cohollo'), ('Daenerys-Targaryen', 'Doreah'), ('Daenerys-Targaryen', 'Drogo'), ('Daenerys-Targaryen', 'Eddard-Stark'), ('Daenerys-Targaryen', 'Eroeh'), ('Daenerys-Targaryen', 'Haggo'), ('Daenerys-Targaryen', 'Illyrio-Mopatis'), ('Daenerys-Targaryen', 'Irri'), ('Daenerys-Targaryen', 'Jhiqui'), ('Daenerys-Targaryen', 'Jhogo'), ('Daenerys-Targaryen', 'Jorah-Mormont'), ('Daenerys-Targaryen', 'Mirri-Maz-Duur'), ('Daenerys-Targaryen', 'Qotho'), ('Daenerys-Targaryen', 'Quaro'), ('Daenerys-Targaryen', 'Rakharo'), ('Daenerys-Targaryen', 'Rhaegar-Targaryen'), ('Daenerys-Targaryen', 'Robert-Baratheon'), ('Daenerys-Targaryen', 'Varys'), ('Daenerys-Targaryen', 'Viserys-Targaryen'), ('Eddard-Stark', 'Aerys-II-Targaryen'), ('Eddard-Stark', 'Alyn'), ('Eddard-Stark', 'Arya-Stark'), ('Eddard-Stark', 'Balon-Greyjoy'), ('Eddard-Stark', 'Barristan-Selmy'), ('Eddard-Stark', 'Beric-Dondarrion'), ('Eddard-Stark', 'Bran-Stark'), ('Eddard-Stark', 'Brandon-Stark'), ('Eddard-Stark', 'Catelyn-Stark'), ('Eddard-Stark', 'Cayn'), ('Eddard-Stark', 'Cersei-Lannister'), ('Eddard-Stark', 'Daryn-Hornwood'), ('Eddard-Stark', 'Desmond'), ('Eddard-Stark', 'Edmure-Tully'), ('Eddard-Stark', 'Galbart-Glover'), ('Eddard-Stark', 'Gendry'), ('Eddard-Stark', 'Gerold-Hightower'), ('Eddard-Stark', 'Gregor-Clegane'), ('Eddard-Stark', 'Harwin'), ('Eddard-Stark', 'High-Septon-(fat_one)'), ('Eddard-Stark', 'Howland-Reed'), ('Eddard-Stark', 'Ilyn-Payne'), ('Eddard-Stark', 'Jacks'), ('Eddard-Stark', 'Janos-Slynt'), ('Eddard-Stark', 'Joffrey-Baratheon'), ('Eddard-Stark', 'Jon-Arryn'), ('Eddard-Stark', 'Jon-Snow'), ('Eddard-Stark', 'Jory-Cassel'), ('Eddard-Stark', 'Joss'), ('Eddard-Stark', 'Loras-Tyrell'), ('Eddard-Stark', 'Luwin'), ('Eddard-Stark', 'Lyanna-Stark'), ('Eddard-Stark', 'Lysa-Arryn'), ('Eddard-Stark', 'Marq-Piper'), ('Eddard-Stark', 'Mordane'), ('Eddard-Stark', 'Mycah'), ('Eddard-Stark', 'Petyr-Baelish'), ('Eddard-Stark', 'Porther'), ('Eddard-Stark', 'Pycelle'), ('Eddard-Stark', 'Raymun-Darry'), ('Eddard-Stark', 'Renly-Baratheon'), ('Eddard-Stark', 'Rhaegar-Targaryen'), ('Eddard-Stark', 'Rickard-Karstark'), ('Eddard-Stark', 'Rickon-Stark'), ('Eddard-Stark', 'Robb-Stark'), ('Eddard-Stark', 'Robert-Baratheon'), ('Eddard-Stark', 'Rodrik-Cassel'), ('Eddard-Stark', 'Sandor-Clegane'), ('Eddard-Stark', 'Sansa-Stark'), ('Eddard-Stark', 'Stannis-Baratheon'), ('Eddard-Stark', 'Syrio-Forel'), ('Eddard-Stark', 'Theon-Greyjoy'), ('Eddard-Stark', 'Tobho-Mott'), ('Eddard-Stark', 'Tomard'), ('Eddard-Stark', 'Torrhen-Karstark'), ('Eddard-Stark', 'Tregar'), ('Eddard-Stark', 'Tyrion-Lannister'), ('Eddard-Stark', 'Varly'), ('Eddard-Stark', 'Varys'), ('Eddard-Stark', 'Vayon-Poole'), ('Eddard-Stark', 'Wyl-(guard)'), ('Eddard-Stark', 'Wylla'), ('Aemon-Targaryen-(Maester-Aemon)', 'Alliser-Thorne'), ('Aemon-Targaryen-(Maester-Aemon)', 'Bowen-Marsh'), ('Aemon-Targaryen-(Maester-Aemon)', 'Chett'), ('Aemon-Targaryen-(Maester-Aemon)', 'Clydas'), ('Aemon-Targaryen-(Maester-Aemon)', 'Jeor-Mormont'), ('Aemon-Targaryen-(Maester-Aemon)', 'Jon-Snow'), ('Aemon-Targaryen-(Maester-Aemon)', 'Samwell-Tarly'), ('Alliser-Thorne', 'Bowen-Marsh'), ('Alliser-Thorne', 'Grenn'), ('Alliser-Thorne', 'Halder'), ('Alliser-Thorne', 'Jeor-Mormont'), ('Alliser-Thorne', 'Jon-Snow'), ('Alliser-Thorne', 'Pypar'), ('Alliser-Thorne', 'Rast'), ('Alliser-Thorne', 'Samwell-Tarly'), ('Alliser-Thorne', 'Tyrion-Lannister'), ('Bowen-Marsh', 'Jeor-Mormont'), ('Bowen-Marsh', 'Jon-Snow'), ('Bowen-Marsh', 'Samwell-Tarly'), ('Chett', 'Jon-Snow'), ('Chett', 'Samwell-Tarly'), ('Jeor-Mormont', 'Benjen-Stark'), ('Jeor-Mormont', 'Bran-Stark'), ('Jeor-Mormont', 'Gared'), ('Jeor-Mormont', 'Grenn'), ('Jeor-Mormont', 'Jaremy-Rykker'), ('Jeor-Mormont', 'Jon-Snow'), ('Jeor-Mormont', 'Robert-Baratheon'), ('Jeor-Mormont', 'Samwell-Tarly'), ('Jeor-Mormont', 'Tyrion-Lannister'), ('Jeor-Mormont', 'Yoren'), ('Jon-Snow', 'Albett'), ('Jon-Snow', 'Arya-Stark'), ('Jon-Snow', 'Benjen-Stark'), ('Jon-Snow', 'Bran-Stark'), ('Jon-Snow', 'Catelyn-Stark'), ('Jon-Snow', 'Cersei-Lannister'), ('Jon-Snow', 'Dareon'), ('Jon-Snow', 'Donal-Noye'), ('Jon-Snow', 'Dywen'), ('Jon-Snow', 'Grenn'), ('Jon-Snow', 'Halder'), ('Jon-Snow', 'Hobb'), ('Jon-Snow', 'Jaremy-Rykker'), ('Jon-Snow', 'Joffrey-Baratheon'), ('Jon-Snow', 'Jory-Cassel'), ('Jon-Snow', 'Luwin'), ('Jon-Snow', 'Matthar'), ('Jon-Snow', 'Mordane'), ('Jon-Snow', 'Othor'), ('Jon-Snow', 'Pypar'), ('Jon-Snow', 'Rast'), ('Jon-Snow', 'Rickon-Stark'), ('Jon-Snow', 'Robb-Stark'), ('Jon-Snow', 'Robert-Baratheon'), ('Jon-Snow', 'Rodrik-Cassel'), ('Jon-Snow', 'Samwell-Tarly'), ('Jon-Snow', 'Sansa-Stark'), ('Jon-Snow', 'Theon-Greyjoy'), ('Jon-Snow', 'Todder'), ('Jon-Snow', 'Tyrion-Lannister'), ('Jon-Snow', 'Yoren'), ('Samwell-Tarly', 'Grenn'), ('Samwell-Tarly', 'Halder'), ('Samwell-Tarly', 'Pypar'), ('Samwell-Tarly', 'Randyll-Tarly'), ('Samwell-Tarly', 'Rast'), ('Samwell-Tarly', 'Robb-Stark'), ('Aerys-II-Targaryen', 'Brandon-Stark'), ('Aerys-II-Targaryen', 'Gerold-Hightower'), ('Aerys-II-Targaryen', 'Jon-Arryn'), ('Aerys-II-Targaryen', 'Robert-Baratheon'), ('Brandon-Stark', 'Lyanna-Stark'), ('Brandon-Stark', 'Petyr-Baelish'), ('Brandon-Stark', 'Rickard-Stark'), ('Brandon-Stark', 'Robert-Baratheon'), ('Gerold-Hightower', 'Arthur-Dayne'), ('Gerold-Hightower', 'Oswell-Whent'), ('Gerold-Hightower', 'Robert-Baratheon'), ('Jon-Arryn', 'Barristan-Selmy'), ('Jon-Arryn', 'Bran-Stark'), ('Jon-Arryn', 'Catelyn-Stark'), ('Jon-Arryn', 'Cersei-Lannister'), ('Jon-Arryn', 'Hugh'), ('Jon-Arryn', 'Lysa-Arryn'), ('Jon-Arryn', 'Petyr-Baelish'), ('Jon-Arryn', 'Pycelle'), ('Jon-Arryn', 'Robert-Baratheon'), ('Jon-Arryn', 'Stannis-Baratheon'), ('Jon-Arryn', 'Tyrion-Lannister'), ('Jon-Arryn', 'Varys'), ('Robert-Baratheon', 'Alyn'), ('Robert-Baratheon', 'Arya-Stark'), ('Robert-Baratheon', 'Balon-Greyjoy'), ('Robert-Baratheon', 'Barristan-Selmy'), ('Robert-Baratheon', 'Benjen-Stark'), ('Robert-Baratheon', 'Beric-Dondarrion'), ('Robert-Baratheon', 'Bran-Stark'), ('Robert-Baratheon', 'Catelyn-Stark'), ('Robert-Baratheon', 'Cersei-Lannister'), ('Robert-Baratheon', 'Drogo'), ('Robert-Baratheon', 'Gregor-Clegane'), ('Robert-Baratheon', 'Hoster-Tully'), ('Robert-Baratheon', 'Illyrio-Mopatis'), ('Robert-Baratheon', 'Ilyn-Payne'), ('Robert-Baratheon', 'Janos-Slynt'), ('Robert-Baratheon', 'Jeyne-Poole'), ('Robert-Baratheon', 'Joffrey-Baratheon'), ('Robert-Baratheon', 'Jorah-Mormont'), ('Robert-Baratheon', 'Jory-Cassel'), ('Robert-Baratheon', 'Lancel-Lannister'), ('Robert-Baratheon', 'Loras-Tyrell'), ('Robert-Baratheon', 'Lyanna-Stark'), ('Robert-Baratheon', 'Lysa-Arryn'), ('Robert-Baratheon', 'Meryn-Trant'), ('Robert-Baratheon', 'Mordane'), ('Robert-Baratheon', 'Myrcella-Baratheon'), ('Robert-Baratheon', 'Petyr-Baelish'), ('Robert-Baratheon', 'Pycelle'), ('Robert-Baratheon', 'Raymun-Darry'), ('Robert-Baratheon', 'Renly-Baratheon'), ('Robert-Baratheon', 'Rhaegar-Targaryen'), ('Robert-Baratheon', 'Robb-Stark'), ('Robert-Baratheon', 'Sandor-Clegane'), ('Robert-Baratheon', 'Sansa-Stark'), ('Robert-Baratheon', 'Stannis-Baratheon'), ('Robert-Baratheon', 'Tommen-Baratheon'), ('Robert-Baratheon', 'Tyrion-Lannister'), ('Robert-Baratheon', 'Varys'), ('Robert-Baratheon', 'Vayon-Poole'), ('Robert-Baratheon', 'Viserys-Targaryen'), ('Aggo', 'Drogo'), ('Aggo', 'Jhogo'), ('Aggo', 'Jorah-Mormont'), ('Aggo', 'Quaro'), ('Aggo', 'Rakharo'), ('Drogo', 'Cohollo'), ('Drogo', 'Doreah'), ('Drogo', 'Haggo'), ('Drogo', 'Illyrio-Mopatis'), ('Drogo', 'Irri'), ('Drogo', 'Jhiqui'), ('Drogo', 'Jhogo'), ('Drogo', 'Jommo'), ('Drogo', 'Jorah-Mormont'), ('Drogo', 'Mirri-Maz-Duur'), ('Drogo', 'Ogo'), ('Drogo', 'Qotho'), ('Drogo', 'Quaro'), ('Drogo', 'Rakharo'), ('Drogo', 'Rhaego'), ('Drogo', 'Viserys-Targaryen'), ('Jhogo', 'Irri'), ('Jhogo', 'Jorah-Mormont'), ('Jhogo', 'Mirri-Maz-Duur'), ('Jorah-Mormont', 'Doreah'), ('Jorah-Mormont', 'Illyrio-Mopatis'), ('Jorah-Mormont', 'Irri'), ('Jorah-Mormont', 'Jhiqui'), ('Jorah-Mormont', 'Mirri-Maz-Duur'), ('Jorah-Mormont', 'Qotho'), ('Jorah-Mormont', 'Rhaegar-Targaryen'), ('Jorah-Mormont', 'Viserys-Targaryen'), ('Quaro', 'Qotho'), ('Quaro', 'Rakharo'), ('Rakharo', 'Haggo'), ('Albett', 'Halder'), ('Albett', 'Rast'), ('Halder', 'Grenn'), ('Halder', 'Pypar'), ('Halder', 'Rast'), ('Halder', 'Todder'), ('Rast', 'Pypar'), ('Grenn', 'Pypar'), ('Grenn', 'Todder'), ('Pypar', 'Todder'), ('Tyrion-Lannister', 'Benjen-Stark'), ('Tyrion-Lannister', 'Bran-Stark'), ('Tyrion-Lannister', 'Bronn'), ('Tyrion-Lannister', 'Brynden-Tully'), ('Tyrion-Lannister', 'Catelyn-Stark'), ('Tyrion-Lannister', 'Cersei-Lannister'), ('Tyrion-Lannister', 'Chella'), ('Tyrion-Lannister', 'Chiggen'), ('Tyrion-Lannister', 'Conn'), ('Tyrion-Lannister', 'Gregor-Clegane'), ('Tyrion-Lannister', 'Gunthor-son-of-Gurn'), ('Tyrion-Lannister', 'Joffrey-Baratheon'), ('Tyrion-Lannister', 'Jyck'), ('Tyrion-Lannister', 'Kevan-Lannister'), ('Tyrion-Lannister', 'Kurleket'), ('Tyrion-Lannister', 'Leo-Lefford'), ('Tyrion-Lannister', 'Luwin'), ('Tyrion-Lannister', 'Lysa-Arryn'), ('Tyrion-Lannister', 'Marillion'), ('Tyrion-Lannister', 'Mord'), ('Tyrion-Lannister', 'Morrec'), ('Tyrion-Lannister', 'Petyr-Baelish'), ('Tyrion-Lannister', 'Renly-Baratheon'), ('Tyrion-Lannister', 'Rickon-Stark'), ('Tyrion-Lannister', 'Robb-Stark'), ('Tyrion-Lannister', 'Robert-Arryn'), ('Tyrion-Lannister', 'Rodrik-Cassel'), ('Tyrion-Lannister', 'Sandor-Clegane'), ('Tyrion-Lannister', 'Sansa-Stark'), ('Tyrion-Lannister', 'Shae'), ('Tyrion-Lannister', 'Shagga'), ('Tyrion-Lannister', 'Theon-Greyjoy'), ('Tyrion-Lannister', 'Timett'), ('Tyrion-Lannister', 'Tommen-Baratheon'), ('Tyrion-Lannister', 'Vardis-Egen'), ('Tyrion-Lannister', 'Varys'), ('Tyrion-Lannister', 'Willis-Wode'), ('Tyrion-Lannister', 'Yoren'), ('Alyn', 'Harwin'), ('Alyn', 'Jory-Cassel'), ('Alyn', 'Tomard'), ('Harwin', 'Hullen'), ('Harwin', 'Jory-Cassel'), ('Jory-Cassel', 'Arya-Stark'), ('Jory-Cassel', 'Bran-Stark'), ('Jory-Cassel', 'Cersei-Lannister'), ('Jory-Cassel', 'Heward'), ('Jory-Cassel', 'Hullen'), ('Jory-Cassel', 'Mordane'), ('Jory-Cassel', 'Petyr-Baelish'), ('Jory-Cassel', 'Robb-Stark'), ('Jory-Cassel', 'Rodrik-Cassel'), ('Jory-Cassel', 'Sansa-Stark'), ('Jory-Cassel', 'Stannis-Baratheon'), ('Jory-Cassel', 'Theon-Greyjoy'), ('Jory-Cassel', 'Tomard'), ('Jory-Cassel', 'Vayon-Poole'), ('Jory-Cassel', 'Wyl-(guard)'), ('Tomard', 'Arya-Stark'), ('Tomard', 'Cayn'), ('Tomard', 'Petyr-Baelish'), ('Tomard', 'Sansa-Stark'), ('Arya-Stark', 'Benjen-Stark'), ('Arya-Stark', 'Bran-Stark'), ('Arya-Stark', 'Catelyn-Stark'), ('Arya-Stark', 'Cersei-Lannister'), ('Arya-Stark', 'Desmond'), ('Arya-Stark', 'Ilyn-Payne'), ('Arya-Stark', 'Jeyne-Poole'), ('Arya-Stark', 'Joffrey-Baratheon'), ('Arya-Stark', 'Meryn-Trant'), ('Arya-Stark', 'Mordane'), ('Arya-Stark', 'Mycah'), ('Arya-Stark', 'Myrcella-Baratheon'), ('Arya-Stark', 'Petyr-Baelish'), ('Arya-Stark', 'Rickon-Stark'), ('Arya-Stark', 'Robb-Stark'), ('Arya-Stark', 'Rodrik-Cassel'), ('Arya-Stark', 'Sandor-Clegane'), ('Arya-Stark', 'Sansa-Stark'), ('Arya-Stark', 'Syrio-Forel'), ('Arya-Stark', 'Tommen-Baratheon'), ('Arya-Stark', 'Vayon-Poole'), ('Arya-Stark', 'Yoren'), ('Benjen-Stark', 'Bran-Stark'), ('Benjen-Stark', 'Cersei-Lannister'), ('Benjen-Stark', 'Jaremy-Rykker'), ('Benjen-Stark', 'Luwin'), ('Benjen-Stark', 'Mance-Rayder'), ('Benjen-Stark', 'Robb-Stark'), ('Benjen-Stark', 'Theon-Greyjoy'), ('Benjen-Stark', 'Waymar-Royce'), ('Benjen-Stark', 'Yoren'), ('Bran-Stark', 'Catelyn-Stark'), ('Bran-Stark', 'Cersei-Lannister'), ('Bran-Stark', 'Hali'), ('Bran-Stark', 'Hallis-Mollen'), ('Bran-Stark', 'Hodor'), ('Bran-Stark', 'Hullen'), ('Bran-Stark', 'Joffrey-Baratheon'), ('Bran-Stark', 'Joseth'), ('Bran-Stark', 'Luwin'), ('Bran-Stark', 'Nan'), ('Bran-Stark', 'Osha'), ('Bran-Stark', 'Petyr-Baelish'), ('Bran-Stark', 'Renly-Baratheon'), ('Bran-Stark', 'Rickard-Karstark'), ('Bran-Stark', 'Rickard-Stark'), ('Bran-Stark', 'Rickon-Stark'), ('Bran-Stark', 'Robb-Stark'), ('Bran-Stark', 'Rodrik-Cassel'), ('Bran-Stark', 'Sansa-Stark'), ('Bran-Stark', 'Stiv'), ('Bran-Stark', 'Theon-Greyjoy'), ('Bran-Stark', 'Tommen-Baratheon'), ('Bran-Stark', 'Yoren'), ('Catelyn-Stark', 'Bronn'), ('Catelyn-Stark', 'Brynden-Tully'), ('Catelyn-Stark', 'Cersei-Lannister'), ('Catelyn-Stark', 'Colemon'), ('Catelyn-Stark', 'Donnel-Waynwood'), ('Catelyn-Stark', 'Edmure-Tully'), ('Catelyn-Stark', 'Eon-Hunter'), ('Catelyn-Stark', 'Hallis-Mollen'), ('Catelyn-Stark', 'Hoster-Tully'), ('Catelyn-Stark', 'Joffrey-Baratheon'), ('Catelyn-Stark', 'Jon-Umber-(Greatjon)'), ('Catelyn-Stark', 'Luwin'), ('Catelyn-Stark', 'Lysa-Arryn'), ('Catelyn-Stark', 'Marillion'), ('Catelyn-Stark', 'Masha-Heddle'), ('Catelyn-Stark', 'Moreo-Tumitis'), ('Catelyn-Stark', 'Mya-Stone'), ('Catelyn-Stark', 'Mychel-Redfort'), ('Catelyn-Stark', 'Nestor-Royce'), ('Catelyn-Stark', 'Petyr-Baelish'), ('Catelyn-Stark', 'Rickard-Karstark'), ('Catelyn-Stark', 'Rickon-Stark'), ('Catelyn-Stark', 'Robb-Stark'), ('Catelyn-Stark', 'Robert-Arryn'), ('Catelyn-Stark', 'Rodrik-Cassel'), ('Catelyn-Stark', 'Sansa-Stark'), ('Catelyn-Stark', 'Stevron-Frey'), ('Catelyn-Stark', 'Theon-Greyjoy'), ('Catelyn-Stark', 'Tytos-Blackwood'), ('Catelyn-Stark', 'Vardis-Egen'), ('Catelyn-Stark', 'Varys'), ('Catelyn-Stark', 'Walder-Frey'), ('Catelyn-Stark', 'Wendel-Manderly'), ('Catelyn-Stark', 'Willis-Wode'), ('Cersei-Lannister', 'Arys-Oakheart'), ('Cersei-Lannister', 'Barristan-Selmy'), ('Cersei-Lannister', 'Boros-Blount'), ('Cersei-Lannister', 'Ilyn-Payne'), ('Cersei-Lannister', 'Janos-Slynt'), ('Cersei-Lannister', 'Joffrey-Baratheon'), ('Cersei-Lannister', 'Meryn-Trant'), ('Cersei-Lannister', 'Mordane'), ('Cersei-Lannister', 'Myrcella-Baratheon'), ('Cersei-Lannister', 'Petyr-Baelish'), ('Cersei-Lannister', 'Pycelle'), ('Cersei-Lannister', 'Renly-Baratheon'), ('Cersei-Lannister', 'Sandor-Clegane'), ('Cersei-Lannister', 'Sansa-Stark'), ('Cersei-Lannister', 'Stannis-Baratheon'), ('Cersei-Lannister', 'Tommen-Baratheon'), ('Cersei-Lannister', 'Varys'), ('Cersei-Lannister', 'Vayon-Poole'), ('Ilyn-Payne', 'Jeyne-Poole'), ('Ilyn-Payne', 'Joffrey-Baratheon'), ('Ilyn-Payne', 'Loras-Tyrell'), ('Ilyn-Payne', 'Sansa-Stark'), ('Ilyn-Payne', 'Varys'), ('Jeyne-Poole', 'Loras-Tyrell'), ('Jeyne-Poole', 'Mordane'), ('Jeyne-Poole', 'Sansa-Stark'), ('Joffrey-Baratheon', 'Barristan-Selmy'), ('Joffrey-Baratheon', 'Boros-Blount'), ('Joffrey-Baratheon', 'High-Septon-(fat_one)'), ('Joffrey-Baratheon', 'Janos-Slynt'), ('Joffrey-Baratheon', 'Loras-Tyrell'), ('Joffrey-Baratheon', 'Meryn-Trant'), ('Joffrey-Baratheon', 'Mordane'), ('Joffrey-Baratheon', 'Mycah'), ('Joffrey-Baratheon', 'Myrcella-Baratheon'), ('Joffrey-Baratheon', 'Petyr-Baelish'), ('Joffrey-Baratheon', 'Pycelle'), ('Joffrey-Baratheon', 'Renly-Baratheon'), ('Joffrey-Baratheon', 'Robb-Stark'), ('Joffrey-Baratheon', 'Rodrik-Cassel'), ('Joffrey-Baratheon', 'Sandor-Clegane'), ('Joffrey-Baratheon', 'Sansa-Stark'), ('Joffrey-Baratheon', 'Stannis-Baratheon'), ('Joffrey-Baratheon', 'Tommen-Baratheon'), ('Joffrey-Baratheon', 'Varys'), ('Meryn-Trant', 'Barristan-Selmy'), ('Meryn-Trant', 'Boros-Blount'), ('Meryn-Trant', 'Sandor-Clegane'), ('Meryn-Trant', 'Sansa-Stark'), ('Meryn-Trant', 'Syrio-Forel'), ('Mordane', 'Myrcella-Baratheon'), ('Mordane', 'Petyr-Baelish'), ('Mordane', 'Sansa-Stark'), ('Mycah', 'Sandor-Clegane'), ('Mycah', 'Sansa-Stark'), ('Myrcella-Baratheon', 'Sansa-Stark'), ('Myrcella-Baratheon', 'Tommen-Baratheon'), ('Petyr-Baelish', 'Barristan-Selmy'), ('Petyr-Baelish', 'Edmure-Tully'), ('Petyr-Baelish', 'Gregor-Clegane'), ('Petyr-Baelish', 'Janos-Slynt'), ('Petyr-Baelish', 'Loras-Tyrell'), ('Petyr-Baelish', 'Lysa-Arryn'), ('Petyr-Baelish', 'Pycelle'), ('Petyr-Baelish', 'Renly-Baratheon'), ('Petyr-Baelish', 'Rodrik-Cassel'), ('Petyr-Baelish', 'Sandor-Clegane'), ('Petyr-Baelish', 'Sansa-Stark'), ('Petyr-Baelish', 'Varys'), ('Rickon-Stark', 'Luwin'), ('Rickon-Stark', 'Robb-Stark'), ('Rickon-Stark', 'Sansa-Stark'), ('Robb-Stark', 'Brynden-Tully'), ('Robb-Stark', 'Edmure-Tully'), ('Robb-Stark', 'Galbart-Glover'), ('Robb-Stark', 'Hallis-Mollen'), ('Robb-Stark', 'Hodor'), ('Robb-Stark', 'Hullen'), ('Robb-Stark', 'Jon-Umber-(Greatjon)'), ('Robb-Stark', 'Luwin'), ('Robb-Stark', 'Nan'), ('Robb-Stark', 'Osha'), ('Robb-Stark', 'Renly-Baratheon'), ('Robb-Stark', 'Rickard-Karstark'), ('Robb-Stark', 'Rodrik-Cassel'), ('Robb-Stark', 'Roose-Bolton'), ('Robb-Stark', 'Sansa-Stark'), ('Robb-Stark', 'Stiv'), ('Robb-Stark', 'Theon-Greyjoy'), ('Robb-Stark', 'Torrhen-Karstark'), ('Robb-Stark', 'Walder-Frey'), ('Robb-Stark', 'Wendel-Manderly'), ('Robb-Stark', 'Yoren'), ('Rodrik-Cassel', 'Bronn'), ('Rodrik-Cassel', 'Hullen'), ('Rodrik-Cassel', 'Loras-Tyrell'), ('Rodrik-Cassel', 'Luwin'), ('Rodrik-Cassel', 'Marillion'), ('Rodrik-Cassel', 'Theon-Greyjoy'), ('Rodrik-Cassel', 'Willis-Wode'), ('Sandor-Clegane', 'Balon-Swann'), ('Sandor-Clegane', 'Barristan-Selmy'), ('Sandor-Clegane', 'Gregor-Clegane'), ('Sandor-Clegane', 'Loras-Tyrell'), ('Sandor-Clegane', 'Renly-Baratheon'), ('Sandor-Clegane', 'Sansa-Stark'), ('Sansa-Stark', 'Barristan-Selmy'), ('Sansa-Stark', 'Beric-Dondarrion'), ('Sansa-Stark', 'Boros-Blount'), ('Sansa-Stark', 'Gregor-Clegane'), ('Sansa-Stark', 'Janos-Slynt'), ('Sansa-Stark', 'Loras-Tyrell'), ('Sansa-Stark', 'Lyanna-Stark'), ('Sansa-Stark', 'Maegor-I-Targaryen'), ('Sansa-Stark', 'Pycelle'), ('Sansa-Stark', 'Renly-Baratheon'), ('Sansa-Stark', 'Rhaegar-Targaryen'), ('Sansa-Stark', 'Stannis-Baratheon'), ('Sansa-Stark', 'Varys'), ('Tommen-Baratheon', 'Luwin'), ('Balon-Swann', 'Renly-Baratheon'), ('Renly-Baratheon', 'Barristan-Selmy'), ('Renly-Baratheon', 'Cayn'), ('Renly-Baratheon', 'Loras-Tyrell'), ('Renly-Baratheon', 'Pycelle'), ('Renly-Baratheon', 'Stannis-Baratheon'), ('Renly-Baratheon', 'Varys'), ('Barristan-Selmy', 'Boros-Blount'), ('Barristan-Selmy', 'Pycelle'), ('Barristan-Selmy', 'Varys'), ('Pycelle', 'Gregor-Clegane'), ('Pycelle', 'Janos-Slynt'), ('Pycelle', 'Stannis-Baratheon'), ('Pycelle', 'Varys'), ('Varys', 'Stannis-Baratheon'), ('Jaremy-Rykker', 'Jafer-Flowers'), ('Luwin', 'Hallis-Mollen'), ('Luwin', 'Hodor'), ('Luwin', 'Hullen'), ('Luwin', 'Joseth'), ('Luwin', 'Nan'), ('Luwin', 'Osha'), ('Luwin', 'Rickard-Karstark'), ('Luwin', 'Theon-Greyjoy'), ('Theon-Greyjoy', 'Brynden-Tully'), ('Theon-Greyjoy', 'Hallis-Mollen'), ('Theon-Greyjoy', 'Jon-Umber-(Greatjon)'), ('Theon-Greyjoy', 'Walder-Frey'), ('Waymar-Royce', 'Gared'), ('Waymar-Royce', 'Will-(prologue)'), ('Beric-Dondarrion', 'Gregor-Clegane'), ('Beric-Dondarrion', 'Loras-Tyrell'), ('Beric-Dondarrion', 'Thoros-of-Myr'), ('Gregor-Clegane', 'Loras-Tyrell'), ('Gregor-Clegane', 'Marq-Piper'), ('Loras-Tyrell', 'Mace-Tyrell'), ('Hodor', 'Nan'), ('Rickard-Karstark', 'Galbart-Glover'), ('Rickard-Karstark', 'Jon-Umber-(Greatjon)'), ('Rickard-Karstark', 'Maege-Mormont'), ('Rickard-Karstark', 'Roose-Bolton'), ('Bronn', 'Chiggen'), ('Bronn', 'Marillion'), ('Bronn', 'Shae'), ('Bronn', 'Shagga'), ('Bronn', 'Vardis-Egen'), ('Bronn', 'Willis-Wode'), ('Chiggen', 'Willis-Wode'), ('Marillion', 'Willis-Wode'), ('Shagga', 'Conn'), ('Shagga', 'Dolf'), ('Shagga', 'Timett'), ('Shagga', 'Ulf-son-of-Umar'), ('Vardis-Egen', 'Colemon'), ('Vardis-Egen', 'Eon-Hunter'), ('Vardis-Egen', 'Lysa-Arryn'), ('Brynden-Tully', 'Edmure-Tully'), ('Brynden-Tully', 'Hoster-Tully'), ('Brynden-Tully', 'Lysa-Arryn'), ('Brynden-Tully', 'Nestor-Royce'), ('Brynden-Tully', 'Walder-Frey'), ('Edmure-Tully', 'Hoster-Tully'), ('Edmure-Tully', 'Karyl-Vance'), ('Edmure-Tully', 'Lysa-Arryn'), ('Edmure-Tully', 'Marq-Piper'), ('Edmure-Tully', 'Tytos-Blackwood'), ('Hoster-Tully', 'Lysa-Arryn'), ('Lysa-Arryn', 'Eon-Hunter'), ('Lysa-Arryn', 'Lyn-Corbray'), ('Lysa-Arryn', 'Robert-Arryn'), ('Lysa-Arryn', 'Stannis-Baratheon'), ('Walder-Frey', 'Danwell-Frey'), ('Walder-Frey', 'Stevron-Frey'), ('Jon-Umber-(Greatjon)', 'Galbart-Glover'), ('Jon-Umber-(Greatjon)', 'Maege-Mormont'), ('Jon-Umber-(Greatjon)', 'Roose-Bolton'), ('Tytos-Blackwood', 'Jonos-Bracken'), ('Clement-Piper', 'Karyl-Vance'), ('Karyl-Vance', 'Marq-Piper'), ('Cohollo', 'Haggo'), ('Cohollo', 'Qotho'), ('Haggo', 'Mirri-Maz-Duur'), ('Haggo', 'Qotho'), ('Qotho', 'Mirri-Maz-Duur'), ('Conn', 'Coratt'), ('Doreah', 'Irri'), ('Doreah', 'Jhiqui'), ('Doreah', 'Viserys-Targaryen'), ('Illyrio-Mopatis', 'Irri'), ('Illyrio-Mopatis', 'Viserys-Targaryen'), ('Irri', 'Jhiqui'), ('Irri', 'Viserys-Targaryen'), ('Rhaegar-Targaryen', 'Viserys-Targaryen'), ('Danwell-Frey', 'Hosteen-Frey'), ('Danwell-Frey', 'Jared-Frey'), ('Hosteen-Frey', 'Jared-Frey'), ('Daryn-Hornwood', 'Torrhen-Karstark'), ('Jommo', 'Ogo'), ('Ogo', 'Fogo'), ('Galbart-Glover', 'Roose-Bolton'), ('Wyl-(guard)', 'Heward'), ('Gared', 'Will-(prologue)'), ('Jyck', 'Morrec'), ('Mace-Tyrell', 'Paxter-Redwyne')])"
      ]
     },
     "execution_count": 15,
     "metadata": {},
     "output_type": "execute_result"
    }
   ],
   "source": [
    "G_book1.edges"
   ]
  },
  {
   "cell_type": "code",
   "execution_count": 70,
   "metadata": {},
   "outputs": [],
   "source": [
    "books = [G_book1, G_book2, G_book3, G_book4, G_book5]"
   ]
  },
  {
   "cell_type": "markdown",
   "metadata": {},
   "source": [
    "Let's have a look at these edges."
   ]
  },
  {
   "cell_type": "code",
   "execution_count": 39,
   "metadata": {},
   "outputs": [
    {
     "data": {
      "text/plain": [
       "('Jaime-Lannister', 'Loras-Tyrell', {'weight': 3, 'book': 1})"
      ]
     },
     "execution_count": 39,
     "metadata": {},
     "output_type": "execute_result"
    }
   ],
   "source": [
    "list(G_book1.edges(data=True))[16]"
   ]
  },
  {
   "cell_type": "code",
   "execution_count": 18,
   "metadata": {},
   "outputs": [
    {
     "data": {
      "text/plain": [
       "('Benjen-Stark', 'Theon-Greyjoy', {'weight': 4, 'book': 1})"
      ]
     },
     "execution_count": 18,
     "metadata": {},
     "output_type": "execute_result"
    }
   ],
   "source": [
    "list(G_book1.edges(data=True))[400]"
   ]
  },
  {
   "cell_type": "markdown",
   "metadata": {},
   "source": [
    "### Finding the most important node i.e character in these networks.\n",
    "\n",
    "Is it Jon Snow, Tyrion, Daenerys, or someone else? Let's see! Network Science offers us many different metrics to measure the importance of a node in a network as we saw in the first part of the tutorial. Note that there is no \"correct\" way of calculating the most important node in a network, every metric has a different meaning.\n",
    "\n",
    "First, let's measure the importance of a node in a network by looking at the number of neighbors it has, that is, the number of nodes it is connected to. For example, an influential account on Twitter, where the follower-followee relationship forms the network, is an account which has a high number of followers. This measure of importance is called degree centrality.\n",
    "\n",
    "Using this measure, let's extract the top ten important characters from the first book (book[0]) and the fifth book (book[4])."
   ]
  },
  {
   "cell_type": "code",
   "execution_count": 41,
   "metadata": {},
   "outputs": [],
   "source": [
    "deg_cen_book1 = nx.degree_centrality(books[0])"
   ]
  },
  {
   "cell_type": "markdown",
   "metadata": {},
   "source": [
    "### Degree Centrality \n",
    "$ \\frac{k}{N-1} $"
   ]
  },
  {
   "cell_type": "code",
   "execution_count": 68,
   "metadata": {},
   "outputs": [],
   "source": [
    "degCent = dict()\n",
    "for item in G_book1.nodes:\n",
    "    degCent[item] = G_book1.degree(item)/(len(G_book1.nodes)-1)"
   ]
  },
  {
   "cell_type": "code",
   "execution_count": 69,
   "metadata": {},
   "outputs": [
    {
     "data": {
      "text/plain": [
       "{'Addam-Marbrand': 0.010752688172043012,\n",
       " 'Jaime-Lannister': 0.15591397849462366,\n",
       " 'Tywin-Lannister': 0.11827956989247312,\n",
       " 'Aegon-I-Targaryen': 0.010752688172043012,\n",
       " 'Daenerys-Targaryen': 0.11290322580645161,\n",
       " 'Eddard-Stark': 0.3548387096774194,\n",
       " 'Aemon-Targaryen-(Maester-Aemon)': 0.03763440860215054,\n",
       " 'Alliser-Thorne': 0.053763440860215055,\n",
       " 'Bowen-Marsh': 0.026881720430107527,\n",
       " 'Chett': 0.016129032258064516,\n",
       " 'Clydas': 0.005376344086021506,\n",
       " 'Jeor-Mormont': 0.06989247311827956,\n",
       " 'Jon-Snow': 0.1989247311827957,\n",
       " 'Samwell-Tarly': 0.06451612903225806,\n",
       " 'Aerys-II-Targaryen': 0.03225806451612903,\n",
       " 'Brandon-Stark': 0.03225806451612903,\n",
       " 'Gerold-Hightower': 0.026881720430107527,\n",
       " 'Jon-Arryn': 0.08064516129032258,\n",
       " 'Robert-Baratheon': 0.26881720430107525,\n",
       " 'Aggo': 0.03225806451612903,\n",
       " 'Drogo': 0.10215053763440861,\n",
       " 'Jhogo': 0.03225806451612903,\n",
       " 'Jorah-Mormont': 0.06989247311827956,\n",
       " 'Quaro': 0.026881720430107527,\n",
       " 'Rakharo': 0.026881720430107527,\n",
       " 'Albett': 0.016129032258064516,\n",
       " 'Halder': 0.043010752688172046,\n",
       " 'Rast': 0.03225806451612903,\n",
       " 'Grenn': 0.03763440860215054,\n",
       " 'Pypar': 0.03763440860215054,\n",
       " 'Tyrion-Lannister': 0.24731182795698925,\n",
       " 'Alyn': 0.026881720430107527,\n",
       " 'Harwin': 0.021505376344086023,\n",
       " 'Jory-Cassel': 0.11290322580645161,\n",
       " 'Tomard': 0.03763440860215054,\n",
       " 'Arthur-Dayne': 0.005376344086021506,\n",
       " 'Arya-Stark': 0.14516129032258066,\n",
       " 'Benjen-Stark': 0.07526881720430108,\n",
       " 'Bran-Stark': 0.17204301075268819,\n",
       " 'Catelyn-Stark': 0.23118279569892472,\n",
       " 'Cersei-Lannister': 0.16129032258064516,\n",
       " 'Desmond': 0.010752688172043012,\n",
       " 'Ilyn-Payne': 0.04838709677419355,\n",
       " 'Jeyne-Poole': 0.03225806451612903,\n",
       " 'Joffrey-Baratheon': 0.16129032258064516,\n",
       " 'Meryn-Trant': 0.04838709677419355,\n",
       " 'Mordane': 0.05913978494623656,\n",
       " 'Mycah': 0.026881720430107527,\n",
       " 'Myrcella-Baratheon': 0.03763440860215054,\n",
       " 'Petyr-Baelish': 0.13978494623655913,\n",
       " 'Rickon-Stark': 0.04838709677419355,\n",
       " 'Robb-Stark': 0.1881720430107527,\n",
       " 'Rodrik-Cassel': 0.0967741935483871,\n",
       " 'Sandor-Clegane': 0.08602150537634409,\n",
       " 'Sansa-Stark': 0.1881720430107527,\n",
       " 'Syrio-Forel': 0.016129032258064516,\n",
       " 'Tommen-Baratheon': 0.043010752688172046,\n",
       " 'Vayon-Poole': 0.026881720430107527,\n",
       " 'Yoren': 0.03763440860215054,\n",
       " 'Arys-Oakheart': 0.005376344086021506,\n",
       " 'Balon-Greyjoy': 0.010752688172043012,\n",
       " 'Balon-Swann': 0.010752688172043012,\n",
       " 'Renly-Baratheon': 0.0967741935483871,\n",
       " 'Barristan-Selmy': 0.07526881720430108,\n",
       " 'Boros-Blount': 0.026881720430107527,\n",
       " 'Pycelle': 0.07526881720430108,\n",
       " 'Varys': 0.0913978494623656,\n",
       " 'Jaremy-Rykker': 0.021505376344086023,\n",
       " 'Luwin': 0.0967741935483871,\n",
       " 'Mance-Rayder': 0.005376344086021506,\n",
       " 'Theon-Greyjoy': 0.08064516129032258,\n",
       " 'Waymar-Royce': 0.016129032258064516,\n",
       " 'Beric-Dondarrion': 0.03225806451612903,\n",
       " 'Gregor-Clegane': 0.06451612903225806,\n",
       " 'Loras-Tyrell': 0.07526881720430108,\n",
       " 'Thoros-of-Myr': 0.005376344086021506,\n",
       " 'Hali': 0.005376344086021506,\n",
       " 'Hallis-Mollen': 0.026881720430107527,\n",
       " 'Hodor': 0.021505376344086023,\n",
       " 'Hullen': 0.03225806451612903,\n",
       " 'Joseth': 0.010752688172043012,\n",
       " 'Nan': 0.021505376344086023,\n",
       " 'Osha': 0.016129032258064516,\n",
       " 'Rickard-Karstark': 0.053763440860215055,\n",
       " 'Rickard-Stark': 0.010752688172043012,\n",
       " 'Stiv': 0.010752688172043012,\n",
       " 'Lyanna-Stark': 0.021505376344086023,\n",
       " 'Bronn': 0.053763440860215055,\n",
       " 'Chiggen': 0.016129032258064516,\n",
       " 'Marillion': 0.026881720430107527,\n",
       " 'Shae': 0.010752688172043012,\n",
       " 'Shagga': 0.03225806451612903,\n",
       " 'Vardis-Egen': 0.03225806451612903,\n",
       " 'Willis-Wode': 0.03225806451612903,\n",
       " 'Brynden-Tully': 0.05913978494623656,\n",
       " 'Edmure-Tully': 0.05913978494623656,\n",
       " 'Hoster-Tully': 0.026881720430107527,\n",
       " 'Lysa-Arryn': 0.08064516129032258,\n",
       " 'Nestor-Royce': 0.010752688172043012,\n",
       " 'Walder-Frey': 0.03763440860215054,\n",
       " 'Colemon': 0.010752688172043012,\n",
       " 'Donnel-Waynwood': 0.005376344086021506,\n",
       " 'Eon-Hunter': 0.016129032258064516,\n",
       " 'Jon-Umber-(Greatjon)': 0.043010752688172046,\n",
       " 'Masha-Heddle': 0.005376344086021506,\n",
       " 'Moreo-Tumitis': 0.005376344086021506,\n",
       " 'Mya-Stone': 0.005376344086021506,\n",
       " 'Mychel-Redfort': 0.005376344086021506,\n",
       " 'Robert-Arryn': 0.016129032258064516,\n",
       " 'Stevron-Frey': 0.010752688172043012,\n",
       " 'Tytos-Blackwood': 0.016129032258064516,\n",
       " 'Wendel-Manderly': 0.010752688172043012,\n",
       " 'Cayn': 0.016129032258064516,\n",
       " 'Janos-Slynt': 0.03763440860215054,\n",
       " 'Stannis-Baratheon': 0.06451612903225806,\n",
       " 'Chella': 0.005376344086021506,\n",
       " 'Clement-Piper': 0.005376344086021506,\n",
       " 'Karyl-Vance': 0.016129032258064516,\n",
       " 'Cohollo': 0.021505376344086023,\n",
       " 'Haggo': 0.03225806451612903,\n",
       " 'Qotho': 0.03763440860215054,\n",
       " 'Conn': 0.016129032258064516,\n",
       " 'Coratt': 0.005376344086021506,\n",
       " 'Doreah': 0.03225806451612903,\n",
       " 'Eroeh': 0.005376344086021506,\n",
       " 'Illyrio-Mopatis': 0.03225806451612903,\n",
       " 'Irri': 0.043010752688172046,\n",
       " 'Jhiqui': 0.026881720430107527,\n",
       " 'Mirri-Maz-Duur': 0.03225806451612903,\n",
       " 'Rhaegar-Targaryen': 0.03763440860215054,\n",
       " 'Viserys-Targaryen': 0.043010752688172046,\n",
       " 'Danwell-Frey': 0.016129032258064516,\n",
       " 'Hosteen-Frey': 0.010752688172043012,\n",
       " 'Jared-Frey': 0.010752688172043012,\n",
       " 'Dareon': 0.005376344086021506,\n",
       " 'Daryn-Hornwood': 0.010752688172043012,\n",
       " 'Torrhen-Karstark': 0.016129032258064516,\n",
       " 'Dolf': 0.005376344086021506,\n",
       " 'Donal-Noye': 0.005376344086021506,\n",
       " 'Jommo': 0.010752688172043012,\n",
       " 'Ogo': 0.016129032258064516,\n",
       " 'Rhaego': 0.005376344086021506,\n",
       " 'Dywen': 0.005376344086021506,\n",
       " 'Galbart-Glover': 0.03225806451612903,\n",
       " 'Gendry': 0.005376344086021506,\n",
       " 'High-Septon-(fat_one)': 0.010752688172043012,\n",
       " 'Howland-Reed': 0.005376344086021506,\n",
       " 'Jacks': 0.005376344086021506,\n",
       " 'Joss': 0.005376344086021506,\n",
       " 'Marq-Piper': 0.026881720430107527,\n",
       " 'Porther': 0.005376344086021506,\n",
       " 'Raymun-Darry': 0.010752688172043012,\n",
       " 'Tobho-Mott': 0.005376344086021506,\n",
       " 'Tregar': 0.005376344086021506,\n",
       " 'Varly': 0.005376344086021506,\n",
       " 'Wyl-(guard)': 0.021505376344086023,\n",
       " 'Wylla': 0.005376344086021506,\n",
       " 'Fogo': 0.005376344086021506,\n",
       " 'Roose-Bolton': 0.026881720430107527,\n",
       " 'Gared': 0.016129032258064516,\n",
       " 'Will-(prologue)': 0.010752688172043012,\n",
       " 'Oswell-Whent': 0.005376344086021506,\n",
       " 'Todder': 0.021505376344086023,\n",
       " 'Gunthor-son-of-Gurn': 0.005376344086021506,\n",
       " 'Harys-Swyft': 0.005376344086021506,\n",
       " 'Heward': 0.010752688172043012,\n",
       " 'Hobb': 0.005376344086021506,\n",
       " 'Hugh': 0.005376344086021506,\n",
       " 'Jafer-Flowers': 0.005376344086021506,\n",
       " 'Kevan-Lannister': 0.016129032258064516,\n",
       " 'Matthar': 0.005376344086021506,\n",
       " 'Othor': 0.005376344086021506,\n",
       " 'Maege-Mormont': 0.010752688172043012,\n",
       " 'Jonos-Bracken': 0.005376344086021506,\n",
       " 'Jyck': 0.010752688172043012,\n",
       " 'Morrec': 0.010752688172043012,\n",
       " 'Kurleket': 0.005376344086021506,\n",
       " 'Lancel-Lannister': 0.005376344086021506,\n",
       " 'Leo-Lefford': 0.005376344086021506,\n",
       " 'Mace-Tyrell': 0.010752688172043012,\n",
       " 'Lyn-Corbray': 0.005376344086021506,\n",
       " 'Paxter-Redwyne': 0.005376344086021506,\n",
       " 'Maegor-I-Targaryen': 0.005376344086021506,\n",
       " 'Mord': 0.005376344086021506,\n",
       " 'Randyll-Tarly': 0.005376344086021506,\n",
       " 'Timett': 0.010752688172043012,\n",
       " 'Ulf-son-of-Umar': 0.005376344086021506}"
      ]
     },
     "execution_count": 69,
     "metadata": {},
     "output_type": "execute_result"
    }
   ],
   "source": [
    "degCent"
   ]
  },
  {
   "cell_type": "code",
   "execution_count": 57,
   "metadata": {},
   "outputs": [
    {
     "ename": "NameError",
     "evalue": "name 'books' is not defined",
     "output_type": "error",
     "traceback": [
      "\u001b[0;31m---------------------------------------------------------------------------\u001b[0m",
      "\u001b[0;31mNameError\u001b[0m                                 Traceback (most recent call last)",
      "\u001b[0;32m<ipython-input-57-0d3086f9f188>\u001b[0m in \u001b[0;36m<module>\u001b[0;34m\u001b[0m\n\u001b[0;32m----> 1\u001b[0;31m \u001b[0mlen\u001b[0m\u001b[0;34m(\u001b[0m\u001b[0mlist\u001b[0m\u001b[0;34m(\u001b[0m\u001b[0mbooks\u001b[0m\u001b[0;34m[\u001b[0m\u001b[0;36m0\u001b[0m\u001b[0;34m]\u001b[0m\u001b[0;34m.\u001b[0m\u001b[0mneighbors\u001b[0m\u001b[0;34m(\u001b[0m\u001b[0;34m\"Addam-Marbrand\"\u001b[0m\u001b[0;34m)\u001b[0m\u001b[0;34m)\u001b[0m\u001b[0;34m)\u001b[0m\u001b[0;34m/\u001b[0m\u001b[0;34m(\u001b[0m\u001b[0mlen\u001b[0m\u001b[0;34m(\u001b[0m\u001b[0mbooks\u001b[0m\u001b[0;34m[\u001b[0m\u001b[0;36m0\u001b[0m\u001b[0;34m]\u001b[0m\u001b[0;34m.\u001b[0m\u001b[0mnodes\u001b[0m\u001b[0;34m)\u001b[0m\u001b[0;34m-\u001b[0m\u001b[0;36m1\u001b[0m\u001b[0;34m)\u001b[0m\u001b[0;34m\u001b[0m\u001b[0;34m\u001b[0m\u001b[0m\n\u001b[0m",
      "\u001b[0;31mNameError\u001b[0m: name 'books' is not defined"
     ]
    }
   ],
   "source": [
    "len(list(books[0].neighbors(\"Addam-Marbrand\")))/(len(books[0].nodes)-1)"
   ]
  },
  {
   "cell_type": "code",
   "execution_count": null,
   "metadata": {},
   "outputs": [],
   "source": []
  },
  {
   "cell_type": "code",
   "execution_count": 75,
   "metadata": {},
   "outputs": [
    {
     "name": "stdout",
     "output_type": "stream",
     "text": [
      "315 µs ± 5.44 µs per loop (mean ± std. dev. of 7 runs, 1000 loops each)\n"
     ]
    }
   ],
   "source": [
    "%%timeit\n",
    "degCent = dict()\n",
    "for item in G_book1.nodes:\n",
    "    degCent[item] = G_book1.degree(item)/(len(G_book1.nodes)-1)"
   ]
  },
  {
   "cell_type": "code",
   "execution_count": 76,
   "metadata": {},
   "outputs": [
    {
     "name": "stdout",
     "output_type": "stream",
     "text": [
      "47.8 µs ± 454 ns per loop (mean ± std. dev. of 7 runs, 10000 loops each)\n"
     ]
    }
   ],
   "source": [
    "%%timeit\n",
    "deg_cen_book1 = nx.degree_centrality(G_book1)"
   ]
  },
  {
   "cell_type": "code",
   "execution_count": 21,
   "metadata": {},
   "outputs": [
    {
     "data": {
      "text/plain": [
       "[('Eddard-Stark', 0.3548387096774194),\n",
       " ('Robert-Baratheon', 0.2688172043010753),\n",
       " ('Tyrion-Lannister', 0.24731182795698928),\n",
       " ('Catelyn-Stark', 0.23118279569892475),\n",
       " ('Jon-Snow', 0.19892473118279572),\n",
       " ('Robb-Stark', 0.18817204301075272),\n",
       " ('Sansa-Stark', 0.18817204301075272),\n",
       " ('Bran-Stark', 0.17204301075268819),\n",
       " ('Cersei-Lannister', 0.16129032258064518),\n",
       " ('Joffrey-Baratheon', 0.16129032258064518)]"
      ]
     },
     "execution_count": 21,
     "metadata": {},
     "output_type": "execute_result"
    }
   ],
   "source": [
    "sorted(deg_cen_book1.items(), key=lambda x:x[1], reverse=True)[0:10]"
   ]
  },
  {
   "cell_type": "code",
   "execution_count": 71,
   "metadata": {},
   "outputs": [
    {
     "data": {
      "text/plain": [
       "[('Eddard-Stark', 0.3548387096774194),\n",
       " ('Robert-Baratheon', 0.26881720430107525),\n",
       " ('Tyrion-Lannister', 0.24731182795698925),\n",
       " ('Catelyn-Stark', 0.23118279569892472),\n",
       " ('Jon-Snow', 0.1989247311827957),\n",
       " ('Robb-Stark', 0.1881720430107527),\n",
       " ('Sansa-Stark', 0.1881720430107527),\n",
       " ('Bran-Stark', 0.17204301075268819),\n",
       " ('Cersei-Lannister', 0.16129032258064516),\n",
       " ('Joffrey-Baratheon', 0.16129032258064516)]"
      ]
     },
     "execution_count": 71,
     "metadata": {},
     "output_type": "execute_result"
    }
   ],
   "source": [
    "sorted(degCent.items(), key=lambda x:x[1], reverse=True)[0:10]"
   ]
  },
  {
   "cell_type": "code",
   "execution_count": 77,
   "metadata": {},
   "outputs": [
    {
     "data": {
      "image/png": "[encoded data removed]",
      "text/plain": [
       "<Figure size 432x288 with 1 Axes>"
      ]
     },
     "metadata": {
      "needs_background": "light"
     },
     "output_type": "display_data"
    }
   ],
   "source": [
    "# Plot a histogram of degree centrality\n",
    "plt.hist(list(nx.degree_centrality(G_book1).values()))\n",
    "plt.show()"
   ]
  },
  {
   "cell_type": "markdown",
   "metadata": {},
   "source": [
    "### Exercise\n",
    "\n",
    "Create a new centrality measure, weighted_degree(Graph, weight) which takes in Graph and the weight attribute and returns a weighted degree dictionary. Weighted degree is calculated by summing the weight of the all edges of a node and find the top five characters according to this measure. [5 mins]"
   ]
  },
  {
   "cell_type": "code",
   "execution_count": 78,
   "metadata": {},
   "outputs": [],
   "source": [
    "def weighted_degree(G, weight):\n",
    "    result = dict()\n",
    "    for node in G.nodes():\n",
    "        weight_degree = 0\n",
    "        for n in G.edges([node], data=True):\n",
    "            weight_degree += ____________\n",
    "        result[node] = weight_degree\n",
    "    return result"
   ]
  },
  {
   "cell_type": "code",
   "execution_count": 91,
   "metadata": {},
   "outputs": [],
   "source": [
    "result = dict()\n",
    "for node in G_book1.nodes():\n",
    "    weight_degree = 0\n",
    "    for n in G_book1.edges([node], data=True):\n",
    "        weight_degree += n[2][\"weight\"]\n",
    "    result[node] = weight_degree"
   ]
  },
  {
   "cell_type": "code",
   "execution_count": 92,
   "metadata": {},
   "outputs": [
    {
     "data": {
      "text/plain": [
       "{'Addam-Marbrand': 9,\n",
       " 'Jaime-Lannister': 241,\n",
       " 'Tywin-Lannister': 181,\n",
       " 'Aegon-I-Targaryen': 9,\n",
       " 'Daenerys-Targaryen': 443,\n",
       " 'Eddard-Stark': 1284,\n",
       " 'Aemon-Targaryen-(Maester-Aemon)': 74,\n",
       " 'Alliser-Thorne': 80,\n",
       " 'Bowen-Marsh': 28,\n",
       " 'Chett': 19,\n",
       " 'Clydas': 5,\n",
       " 'Jeor-Mormont': 181,\n",
       " 'Jon-Snow': 784,\n",
       " 'Samwell-Tarly': 148,\n",
       " 'Aerys-II-Targaryen': 37,\n",
       " 'Brandon-Stark': 41,\n",
       " 'Gerold-Hightower': 17,\n",
       " 'Jon-Arryn': 169,\n",
       " 'Robert-Baratheon': 941,\n",
       " 'Aggo': 36,\n",
       " 'Drogo': 256,\n",
       " 'Jhogo': 43,\n",
       " 'Jorah-Mormont': 154,\n",
       " 'Quaro': 21,\n",
       " 'Rakharo': 24,\n",
       " 'Albett': 11,\n",
       " 'Halder': 56,\n",
       " 'Rast': 26,\n",
       " 'Grenn': 85,\n",
       " 'Pypar': 107,\n",
       " 'Tyrion-Lannister': 650,\n",
       " 'Alyn': 32,\n",
       " 'Harwin': 18,\n",
       " 'Jory-Cassel': 152,\n",
       " 'Tomard': 42,\n",
       " 'Arthur-Dayne': 4,\n",
       " 'Arya-Stark': 430,\n",
       " 'Benjen-Stark': 104,\n",
       " 'Bran-Stark': 531,\n",
       " 'Catelyn-Stark': 520,\n",
       " 'Cersei-Lannister': 424,\n",
       " 'Desmond': 7,\n",
       " 'Ilyn-Payne': 43,\n",
       " 'Jeyne-Poole': 54,\n",
       " 'Joffrey-Baratheon': 422,\n",
       " 'Meryn-Trant': 36,\n",
       " 'Mordane': 141,\n",
       " 'Mycah': 50,\n",
       " 'Myrcella-Baratheon': 54,\n",
       " 'Petyr-Baelish': 313,\n",
       " 'Rickon-Stark': 98,\n",
       " 'Robb-Stark': 516,\n",
       " 'Rodrik-Cassel': 124,\n",
       " 'Sandor-Clegane': 135,\n",
       " 'Sansa-Stark': 545,\n",
       " 'Syrio-Forel': 31,\n",
       " 'Tommen-Baratheon': 37,\n",
       " 'Vayon-Poole': 28,\n",
       " 'Yoren': 33,\n",
       " 'Arys-Oakheart': 3,\n",
       " 'Balon-Greyjoy': 7,\n",
       " 'Balon-Swann': 6,\n",
       " 'Renly-Baratheon': 186,\n",
       " 'Barristan-Selmy': 143,\n",
       " 'Boros-Blount': 26,\n",
       " 'Pycelle': 150,\n",
       " 'Varys': 231,\n",
       " 'Jaremy-Rykker': 24,\n",
       " 'Luwin': 210,\n",
       " 'Mance-Rayder': 3,\n",
       " 'Theon-Greyjoy': 133,\n",
       " 'Waymar-Royce': 34,\n",
       " 'Beric-Dondarrion': 28,\n",
       " 'Gregor-Clegane': 74,\n",
       " 'Loras-Tyrell': 78,\n",
       " 'Thoros-of-Myr': 5,\n",
       " 'Hali': 3,\n",
       " 'Hallis-Mollen': 37,\n",
       " 'Hodor': 52,\n",
       " 'Hullen': 20,\n",
       " 'Joseth': 7,\n",
       " 'Nan': 33,\n",
       " 'Osha': 31,\n",
       " 'Rickard-Karstark': 46,\n",
       " 'Rickard-Stark': 7,\n",
       " 'Stiv': 7,\n",
       " 'Lyanna-Stark': 36,\n",
       " 'Bronn': 109,\n",
       " 'Chiggen': 16,\n",
       " 'Marillion': 29,\n",
       " 'Shae': 15,\n",
       " 'Shagga': 44,\n",
       " 'Vardis-Egen': 37,\n",
       " 'Willis-Wode': 28,\n",
       " 'Brynden-Tully': 69,\n",
       " 'Edmure-Tully': 48,\n",
       " 'Hoster-Tully': 24,\n",
       " 'Lysa-Arryn': 138,\n",
       " 'Nestor-Royce': 6,\n",
       " 'Walder-Frey': 41,\n",
       " 'Colemon': 7,\n",
       " 'Donnel-Waynwood': 3,\n",
       " 'Eon-Hunter': 9,\n",
       " 'Jon-Umber-(Greatjon)': 39,\n",
       " 'Masha-Heddle': 5,\n",
       " 'Moreo-Tumitis': 3,\n",
       " 'Mya-Stone': 9,\n",
       " 'Mychel-Redfort': 3,\n",
       " 'Robert-Arryn': 20,\n",
       " 'Stevron-Frey': 8,\n",
       " 'Tytos-Blackwood': 10,\n",
       " 'Wendel-Manderly': 6,\n",
       " 'Cayn': 16,\n",
       " 'Janos-Slynt': 25,\n",
       " 'Stannis-Baratheon': 105,\n",
       " 'Chella': 5,\n",
       " 'Clement-Piper': 4,\n",
       " 'Karyl-Vance': 11,\n",
       " 'Cohollo': 29,\n",
       " 'Haggo': 45,\n",
       " 'Qotho': 68,\n",
       " 'Conn': 20,\n",
       " 'Coratt': 5,\n",
       " 'Doreah': 51,\n",
       " 'Eroeh': 5,\n",
       " 'Illyrio-Mopatis': 70,\n",
       " 'Irri': 81,\n",
       " 'Jhiqui': 60,\n",
       " 'Mirri-Maz-Duur': 63,\n",
       " 'Rhaegar-Targaryen': 53,\n",
       " 'Viserys-Targaryen': 105,\n",
       " 'Danwell-Frey': 9,\n",
       " 'Hosteen-Frey': 6,\n",
       " 'Jared-Frey': 6,\n",
       " 'Dareon': 6,\n",
       " 'Daryn-Hornwood': 6,\n",
       " 'Torrhen-Karstark': 11,\n",
       " 'Dolf': 7,\n",
       " 'Donal-Noye': 7,\n",
       " 'Jommo': 6,\n",
       " 'Ogo': 18,\n",
       " 'Rhaego': 5,\n",
       " 'Dywen': 4,\n",
       " 'Galbart-Glover': 23,\n",
       " 'Gendry': 3,\n",
       " 'High-Septon-(fat_one)': 8,\n",
       " 'Howland-Reed': 3,\n",
       " 'Jacks': 4,\n",
       " 'Joss': 5,\n",
       " 'Marq-Piper': 18,\n",
       " 'Porther': 4,\n",
       " 'Raymun-Darry': 12,\n",
       " 'Tobho-Mott': 7,\n",
       " 'Tregar': 4,\n",
       " 'Varly': 4,\n",
       " 'Wyl-(guard)': 15,\n",
       " 'Wylla': 3,\n",
       " 'Fogo': 4,\n",
       " 'Roose-Bolton': 19,\n",
       " 'Gared': 29,\n",
       " 'Will-(prologue)': 30,\n",
       " 'Oswell-Whent': 3,\n",
       " 'Todder': 31,\n",
       " 'Gunthor-son-of-Gurn': 7,\n",
       " 'Harys-Swyft': 3,\n",
       " 'Heward': 8,\n",
       " 'Hobb': 5,\n",
       " 'Hugh': 3,\n",
       " 'Jafer-Flowers': 3,\n",
       " 'Kevan-Lannister': 28,\n",
       " 'Matthar': 3,\n",
       " 'Othor': 5,\n",
       " 'Maege-Mormont': 8,\n",
       " 'Jonos-Bracken': 3,\n",
       " 'Jyck': 11,\n",
       " 'Morrec': 10,\n",
       " 'Kurleket': 5,\n",
       " 'Lancel-Lannister': 3,\n",
       " 'Leo-Lefford': 4,\n",
       " 'Mace-Tyrell': 6,\n",
       " 'Lyn-Corbray': 3,\n",
       " 'Paxter-Redwyne': 3,\n",
       " 'Maegor-I-Targaryen': 4,\n",
       " 'Mord': 20,\n",
       " 'Randyll-Tarly': 5,\n",
       " 'Timett': 7,\n",
       " 'Ulf-son-of-Umar': 4}"
      ]
     },
     "execution_count": 92,
     "metadata": {},
     "output_type": "execute_result"
    }
   ],
   "source": [
    "result"
   ]
  },
  {
   "cell_type": "code",
   "execution_count": null,
   "metadata": {},
   "outputs": [],
   "source": [
    "plt.hist(___________)\n",
    "plt.show()"
   ]
  },
  {
   "cell_type": "code",
   "execution_count": null,
   "metadata": {},
   "outputs": [],
   "source": [
    "sorted(weighted_degree(G_book1, 'weight').items(), key=lambda x:x[1], reverse=True)[0:10]"
   ]
  },
  {
   "cell_type": "markdown",
   "metadata": {},
   "source": [
    "### Let's do this for Betweeness centrality and check if this makes any difference\n",
    "\n",
    "Haha, evil laugh"
   ]
  },
  {
   "cell_type": "code",
   "execution_count": 51,
   "metadata": {},
   "outputs": [
    {
     "data": {
      "text/plain": [
       "[('Eddard-Stark', 0.2696038913836117),\n",
       " ('Robert-Baratheon', 0.21403028397371796),\n",
       " ('Tyrion-Lannister', 0.1902124972697492),\n",
       " ('Jon-Snow', 0.17158135899829566),\n",
       " ('Catelyn-Stark', 0.1513952715347627),\n",
       " ('Daenerys-Targaryen', 0.08627015537511595),\n",
       " ('Robb-Stark', 0.07298399629664767),\n",
       " ('Drogo', 0.06481224290874964),\n",
       " ('Bran-Stark', 0.05579958811784442),\n",
       " ('Sansa-Stark', 0.03714483664326785)]"
      ]
     },
     "execution_count": 51,
     "metadata": {},
     "output_type": "execute_result"
    }
   ],
   "source": [
    "# First check unweighted, just the structure\n",
    "\n",
    "sorted(nx.betweenness_centrality(G_book1).items(), key=lambda x:x[1], reverse=True)[0:10]"
   ]
  },
  {
   "cell_type": "code",
   "execution_count": 61,
   "metadata": {},
   "outputs": [
    {
     "data": {
      "text/plain": [
       "[('Stannis-Baratheon', 0.36406677465146403),\n",
       " ('Daenerys-Targaryen', 0.25381750424245914),\n",
       " ('Jon-Snow', 0.20565214271362542),\n",
       " ('Robert-Baratheon', 0.20012876291658696),\n",
       " ('Asha-Greyjoy', 0.1739937522125587),\n",
       " ('Tyrion-Lannister', 0.15869758899596131),\n",
       " ('Cersei-Lannister', 0.14384539416335676),\n",
       " ('Godry-Farring', 0.1043978491537262),\n",
       " ('Tywin-Lannister', 0.09652381909163119),\n",
       " ('Barristan-Selmy', 0.08378527808003416)]"
      ]
     },
     "execution_count": 61,
     "metadata": {},
     "output_type": "execute_result"
    }
   ],
   "source": [
    "# Let's care about interactions now\n",
    "\n",
    "sorted(nx.betweenness_centrality(G_book5, weight='weight').items(), key=lambda x:x[1], reverse=True)[0:10]"
   ]
  },
  {
   "cell_type": "markdown",
   "metadata": {},
   "source": [
    "### So what's up with  Stannis Baratheon?"
   ]
  },
  {
   "cell_type": "code",
   "execution_count": 57,
   "metadata": {},
   "outputs": [
    {
     "data": {
      "image/png": "[encoded data removed]",
      "text/plain": [
       "<Figure size 432x288 with 1 Axes>"
      ]
     },
     "metadata": {},
     "output_type": "display_data"
    }
   ],
   "source": [
    "nx.draw(nx.barbell_graph(5, 1), with_labels=True)"
   ]
  },
  {
   "cell_type": "code",
   "execution_count": 62,
   "metadata": {},
   "outputs": [
    {
     "data": {
      "text/plain": [
       "[('Jon-Snow', 0.1962025316455696),\n",
       " ('Daenerys-Targaryen', 0.18354430379746836),\n",
       " ('Stannis-Baratheon', 0.14873417721518986),\n",
       " ('Tyrion-Lannister', 0.10443037974683544),\n",
       " ('Theon-Greyjoy', 0.10443037974683544)]"
      ]
     },
     "execution_count": 62,
     "metadata": {},
     "output_type": "execute_result"
    }
   ],
   "source": [
    "sorted(nx.degree_centrality(G_book5).items(), key=lambda x:x[1], reverse=True)[:5]"
   ]
  },
  {
   "cell_type": "code",
   "execution_count": 98,
   "metadata": {},
   "outputs": [
    {
     "data": {
      "text/plain": [
       "[('Stannis-Baratheon', 0.45283060689247934),\n",
       " ('Daenerys-Targaryen', 0.2959459062106149),\n",
       " ('Jon-Snow', 0.24484873673158666),\n",
       " ('Tyrion-Lannister', 0.20961613179551256),\n",
       " ('Robert-Baratheon', 0.17716906651536968)]"
      ]
     },
     "execution_count": 98,
     "metadata": {},
     "output_type": "execute_result"
    }
   ],
   "source": [
    "sorted(nx.betweenness_centrality(G_book5).items(), key=lambda x:x[1], reverse=True)[:5]"
   ]
  },
  {
   "cell_type": "code",
   "execution_count": 100,
   "metadata": {},
   "outputs": [
    {
     "data": {
      "image/png": "[encoded data removed]",
      "text/plain": [
       "<Figure size 432x288 with 1 Axes>"
      ]
     },
     "metadata": {},
     "output_type": "display_data"
    }
   ],
   "source": [
    "nx.draw(nx.ego_graph(G_book5,'Robert-Baratheon',radius=1),with_labels=True)"
   ]
  },
  {
   "cell_type": "markdown",
   "metadata": {},
   "source": [
    "#### PageRank\n",
    "The billion dollar algorithm, PageRank works by counting the number and quality of links to a page to determine a rough estimate of how important the website is. The underlying assumption is that more important websites are likely to receive more links from other websites."
   ]
  },
  {
   "cell_type": "code",
   "execution_count": 53,
   "metadata": {},
   "outputs": [
    {
     "data": {
      "text/plain": [
       "[('Eddard-Stark', 0.045520792228306683),\n",
       " ('Tyrion-Lannister', 0.033013624624932625),\n",
       " ('Catelyn-Stark', 0.030193105286631897),\n",
       " ('Robert-Baratheon', 0.029834742227736733),\n",
       " ('Jon-Snow', 0.02683449952206622),\n",
       " ('Robb-Stark', 0.021562941297247486),\n",
       " ('Sansa-Stark', 0.02000803404286462),\n",
       " ('Bran-Stark', 0.019945786786238335),\n",
       " ('Jaime-Lannister', 0.01750784720284688),\n",
       " ('Cersei-Lannister', 0.017082604584758063)]"
      ]
     },
     "execution_count": 53,
     "metadata": {},
     "output_type": "execute_result"
    }
   ],
   "source": [
    "# by default weight attribute in pagerank is weight, so we use weight=None to find the unweighted results\n",
    "sorted(nx.pagerank_numpy(G_book1, weight=None).items(), key=lambda x:x[1], reverse=True)[0:10]"
   ]
  },
  {
   "cell_type": "code",
   "execution_count": 54,
   "metadata": {},
   "outputs": [
    {
     "data": {
      "text/plain": [
       "[('Eddard-Stark', 0.07239401100498236),\n",
       " ('Robert-Baratheon', 0.048517275705099346),\n",
       " ('Jon-Snow', 0.04770689062474915),\n",
       " ('Tyrion-Lannister', 0.04367437892706293),\n",
       " ('Catelyn-Stark', 0.03466703470130739),\n",
       " ('Bran-Stark', 0.029774200539800223),\n",
       " ('Robb-Stark', 0.029216183645196857),\n",
       " ('Daenerys-Targaryen', 0.027089622513021133),\n",
       " ('Sansa-Stark', 0.02696177891568312),\n",
       " ('Cersei-Lannister', 0.021631679397418935)]"
      ]
     },
     "execution_count": 54,
     "metadata": {},
     "output_type": "execute_result"
    }
   ],
   "source": [
    "sorted(nx.pagerank_numpy(G_book1, weight='weight').items(), key=lambda x:x[1], reverse=True)[0:10]"
   ]
  },
  {
   "cell_type": "markdown",
   "metadata": {},
   "source": [
    "## Evolution of importance of characters over the books"
   ]
  },
  {
   "cell_type": "markdown",
   "metadata": {},
   "source": [
    "According to degree centrality the most important character in the first book is Eddard Stark but he is not even in the top 10 of the fifth book. The importance changes over the course of five books, because you know stuff happens ;)\n",
    "\n",
    "Let's look at the evolution of degree centrality of a couple of characters like Eddard Stark, Jon Snow, Tyrion which showed up in the top 10 of degree centrality in first book.\n",
    "\n",
    "We create a dataframe with character columns and index as books where every entry is the degree centrality of the character in that particular book and plot the evolution of degree centrality Eddard Stark, Jon Snow and Tyrion.\n",
    "We can see that the importance of Eddard Stark in the network dies off and with Jon Snow there is a drop in the fourth book but a sudden rise in the fifth book"
   ]
  },
  {
   "cell_type": "code",
   "execution_count": 103,
   "metadata": {},
   "outputs": [],
   "source": [
    "books = [G_book1,G_book2,G_book3,G_book4,G_book5]"
   ]
  },
  {
   "cell_type": "code",
   "execution_count": 104,
   "metadata": {},
   "outputs": [
    {
     "data": {
      "text/plain": [
       "<matplotlib.axes._subplots.AxesSubplot at 0xa29e61810>"
      ]
     },
     "execution_count": 104,
     "metadata": {},
     "output_type": "execute_result"
    },
    {
     "data": {
      "image/png": "[encoded data removed]",
      "text/plain": [
       "<Figure size 432x288 with 1 Axes>"
      ]
     },
     "metadata": {
      "needs_background": "light"
     },
     "output_type": "display_data"
    }
   ],
   "source": [
    "evol = [nx.degree_centrality(book) for book in books]\n",
    "evol_df = pd.DataFrame.from_records(evol).fillna(0)\n",
    "evol_df[['Eddard-Stark', 'Tyrion-Lannister', 'Jon-Snow']].plot()"
   ]
  },
  {
   "cell_type": "code",
   "execution_count": null,
   "metadata": {},
   "outputs": [],
   "source": []
  },
  {
   "cell_type": "code",
   "execution_count": 81,
   "metadata": {},
   "outputs": [
    {
     "data": {
      "text/plain": [
       "{'Arya-Stark',\n",
       " 'Brienne-of-Tarth',\n",
       " 'Catelyn-Stark',\n",
       " 'Cersei-Lannister',\n",
       " 'Daenerys-Targaryen',\n",
       " 'Eddard-Stark',\n",
       " 'Jaime-Lannister',\n",
       " 'Joffrey-Baratheon',\n",
       " 'Jon-Snow',\n",
       " 'Margaery-Tyrell',\n",
       " 'Robb-Stark',\n",
       " 'Robert-Baratheon',\n",
       " 'Sansa-Stark',\n",
       " 'Stannis-Baratheon',\n",
       " 'Theon-Greyjoy',\n",
       " 'Tyrion-Lannister'}"
      ]
     },
     "execution_count": 81,
     "metadata": {},
     "output_type": "execute_result"
    }
   ],
   "source": [
    "set_of_char = set()\n",
    "for i in range(5):\n",
    "    set_of_char |= set(list(evol_df.T[i].sort_values(ascending=False)[0:5].index))\n",
    "set_of_char"
   ]
  },
  {
   "cell_type": "markdown",
   "metadata": {},
   "source": [
    "##### Exercise\n",
    "\n",
    "Plot the evolution of weighted degree centrality of the above mentioned characters over the 5 books, and repeat the same exercise for betweenness centrality."
   ]
  },
  {
   "cell_type": "code",
   "execution_count": null,
   "metadata": {},
   "outputs": [],
   "source": [
    "evol_df[__________].plot(figsize=(29,15))"
   ]
  },
  {
   "cell_type": "code",
   "execution_count": 105,
   "metadata": {},
   "outputs": [
    {
     "data": {
      "text/plain": [
       "<matplotlib.axes._subplots.AxesSubplot at 0xa2990a150>"
      ]
     },
     "execution_count": 105,
     "metadata": {},
     "output_type": "execute_result"
    },
    {
     "data": {
      "image/png": "[encoded data removed]",
      "text/plain": [
       "<Figure size 1368x720 with 1 Axes>"
      ]
     },
     "metadata": {
      "needs_background": "light"
     },
     "output_type": "display_data"
    }
   ],
   "source": [
    "evol = [nx.betweenness_centrality(graph) for graph in books]\n",
    "evol_df = pd.DataFrame.from_records(evol).fillna(0)\n",
    "\n",
    "set_of_char = set()\n",
    "for i in range(5):\n",
    "    set_of_char |= set(list(evol_df.T[i].sort_values(ascending=False)[0:5].index))\n",
    "\n",
    "\n",
    "evol_df[list(set_of_char)].plot(figsize=(19,10))"
   ]
  },
  {
   "cell_type": "markdown",
   "metadata": {},
   "source": [
    "#### Community detection in Networks\n",
    "A network is said to have community structure if the nodes of the network can be easily grouped into (potentially overlapping) sets of nodes such that each set of nodes is densely connected internally.\n",
    "\n",
    "We will use louvain community detection algorithm to find the modules in our graph."
   ]
  },
  {
   "cell_type": "code",
   "execution_count": null,
   "metadata": {},
   "outputs": [],
   "source": [
    "partition = community.best_partition(G_book1)\n",
    "size = float(len(set(partition.values())))\n",
    "pos = nx.spring_layout(G_book1)\n",
    "count = 0.\n",
    "for com in set(partition.values()) :\n",
    "    count = count + 1.\n",
    "    list_nodes = [nodes for nodes in partition.keys()\n",
    "                                if partition[nodes] == com]\n",
    "    nx.draw_networkx_nodes(G_book1, pos, list_nodes, node_size = 20,\n",
    "                                node_color = str(count / size))\n",
    "\n",
    "\n",
    "nx.draw_networkx_edges(G_book1, pos, alpha=0.5)\n",
    "plt.show()"
   ]
  },
  {
   "cell_type": "code",
   "execution_count": null,
   "metadata": {},
   "outputs": [],
   "source": [
    "d = {}\n",
    "for character, par in partition.items():\n",
    "    if par in d:\n",
    "        d[par].append(character)\n",
    "    else:\n",
    "        d[par] = [character]\n",
    "d"
   ]
  },
  {
   "cell_type": "code",
   "execution_count": null,
   "metadata": {},
   "outputs": [],
   "source": [
    "nx.draw(nx.subgraph(G_book1, d[3]))"
   ]
  },
  {
   "cell_type": "code",
   "execution_count": null,
   "metadata": {},
   "outputs": [],
   "source": [
    "nx.draw(nx.subgraph(G_book1, d[1]))"
   ]
  },
  {
   "cell_type": "code",
   "execution_count": null,
   "metadata": {},
   "outputs": [],
   "source": [
    "nx.density(G_book1)"
   ]
  },
  {
   "cell_type": "code",
   "execution_count": null,
   "metadata": {},
   "outputs": [],
   "source": [
    "nx.density(nx.subgraph(G_book1, d[4]))"
   ]
  },
  {
   "cell_type": "markdown",
   "metadata": {},
   "source": [
    "#### Exercise \n",
    "\n",
    "Find the most important node in the partitions according to degree centrality of the nodes."
   ]
  },
  {
   "cell_type": "code",
   "execution_count": null,
   "metadata": {},
   "outputs": [],
   "source": [
    "max_d = {}\n",
    "deg_book1 = nx.degree_centrality(G_book1)\n",
    "\n",
    "for ______ in d:\n",
    "    temp = 0\n",
    "    for _______ in d[group]:\n",
    "        if deg_book1[_______] > temp:\n",
    "            max_d[______] = _______\n",
    "            temp = deg_book1[_______]"
   ]
  },
  {
   "cell_type": "code",
   "execution_count": null,
   "metadata": {},
   "outputs": [],
   "source": [
    "nx.density(nx.subgraph(G_book1, d[4]))/nx.density(G_book1)"
   ]
  },
  {
   "cell_type": "code",
   "execution_count": null,
   "metadata": {},
   "outputs": [],
   "source": [
    "max_d"
   ]
  },
  {
   "cell_type": "code",
   "execution_count": null,
   "metadata": {},
   "outputs": [],
   "source": []
  },
  {
   "cell_type": "code",
   "execution_count": 16,
   "metadata": {},
   "outputs": [],
   "source": [
    "# input edgelist from file\n",
    "G = nx.read_edgelist(\"datafiles/social/facebook/fb.txt\")"
   ]
  },
  {
   "cell_type": "code",
   "execution_count": 17,
   "metadata": {},
   "outputs": [],
   "source": [
    "# get the 2nd node's neighbors (retrieves a dictionary)\n",
    "dict_neighbors = G.neighbors('2')"
   ]
  },
  {
   "cell_type": "code",
   "execution_count": 18,
   "metadata": {},
   "outputs": [
    {
     "data": {
      "text/plain": [
       "['1',\n",
       " '3',\n",
       " '7',\n",
       " '9',\n",
       " '11',\n",
       " '12',\n",
       " '16',\n",
       " '17',\n",
       " '18',\n",
       " '23',\n",
       " '51',\n",
       " '53',\n",
       " '479',\n",
       " '1079',\n",
       " '1132',\n",
       " '1237',\n",
       " '1645',\n",
       " '2053',\n",
       " '2054',\n",
       " '2055',\n",
       " '2056',\n",
       " '2057',\n",
       " '2058',\n",
       " '2059',\n",
       " '2060',\n",
       " '2061']"
      ]
     },
     "execution_count": 18,
     "metadata": {},
     "output_type": "execute_result"
    }
   ],
   "source": [
    "list(dict_neighbors)"
   ]
  },
  {
   "cell_type": "code",
   "execution_count": 19,
   "metadata": {},
   "outputs": [
    {
     "data": {
      "text/plain": [
       "63731"
      ]
     },
     "execution_count": 19,
     "metadata": {},
     "output_type": "execute_result"
    }
   ],
   "source": [
    "# number of total nodes in graph\n",
    "len(G.nodes)"
   ]
  },
  {
   "cell_type": "code",
   "execution_count": 20,
   "metadata": {},
   "outputs": [
    {
     "data": {
      "text/plain": [
       "817035"
      ]
     },
     "execution_count": 20,
     "metadata": {},
     "output_type": "execute_result"
    }
   ],
   "source": [
    "# number of total edges in graph\n",
    "len(G.edges)"
   ]
  },
  {
   "cell_type": "code",
   "execution_count": 21,
   "metadata": {},
   "outputs": [
    {
     "data": {
      "text/plain": [
       "0.17701535770918256"
      ]
     },
     "execution_count": 21,
     "metadata": {},
     "output_type": "execute_result"
    }
   ],
   "source": [
    "nx.degree_assortativity_coefficient(G)"
   ]
  },
  {
   "cell_type": "code",
   "execution_count": 22,
   "metadata": {},
   "outputs": [
    {
     "data": {
      "text/plain": [
       "0.17701535770918214"
      ]
     },
     "execution_count": 22,
     "metadata": {},
     "output_type": "execute_result"
    }
   ],
   "source": [
    "nx.degree_pearson_correlation_coefficient(G)"
   ]
  },
  {
   "cell_type": "code",
   "execution_count": 31,
   "metadata": {},
   "outputs": [],
   "source": [
    "G.clear()"
   ]
  },
  {
   "cell_type": "markdown",
   "metadata": {},
   "source": [
    "### 2. Network Types "
   ]
  },
  {
   "cell_type": "markdown",
   "metadata": {},
   "source": [
    "#### a. Weighted Graphs\n",
    "\n",
    "**Edge weight.** Consider that the edge that you are adding should contain additional information, such as the strength of the connection. This would be important, for example, when analyzing communication networks to check friendship/connectivity strength. You want to capture how many times they exchanged e-mails, calls, text messages, to indicate the strength of the connection. For this you will assign weights to the edge, values that can be the number of communications, or the fraction of communications, normalized."
   ]
  },
  {
   "cell_type": "code",
   "execution_count": 35,
   "metadata": {},
   "outputs": [],
   "source": [
    "# assign weight to edge\n",
    "G.add_edge('Mary','Steven', weight=5)"
   ]
  },
  {
   "cell_type": "code",
   "execution_count": 36,
   "metadata": {},
   "outputs": [
    {
     "data": {
      "text/plain": [
       "EdgeView([('Mary', 'Steven')])"
      ]
     },
     "execution_count": 36,
     "metadata": {},
     "output_type": "execute_result"
    }
   ],
   "source": [
    "G.edges"
   ]
  },
  {
   "cell_type": "code",
   "execution_count": 38,
   "metadata": {},
   "outputs": [
    {
     "data": {
      "text/plain": [
       "{'weight': 5}"
      ]
     },
     "execution_count": 38,
     "metadata": {},
     "output_type": "execute_result"
    }
   ],
   "source": [
    "# access edge properties\n",
    "G['Mary']['Steven']"
   ]
  },
  {
   "cell_type": "code",
   "execution_count": 39,
   "metadata": {},
   "outputs": [],
   "source": [
    "# change edge weight\n",
    "G['Mary']['Steven']['weight'] = 1"
   ]
  },
  {
   "cell_type": "code",
   "execution_count": 41,
   "metadata": {},
   "outputs": [
    {
     "data": {
      "text/plain": [
       "0.0"
      ]
     },
     "execution_count": 41,
     "metadata": {},
     "output_type": "execute_result"
    }
   ],
   "source": [
    "nx.reciprocity(G)"
   ]
  },
  {
   "cell_type": "markdown",
   "metadata": {},
   "source": [
    "#### b. Directed Graphs\n",
    "\n",
    "**Edge direction.** Edges have direction describing source -> target node relationship."
   ]
  },
  {
   "cell_type": "code",
   "execution_count": 42,
   "metadata": {},
   "outputs": [
    {
     "data": {
      "text/plain": [
       "NodeView(('Mary', 'Steven'))"
      ]
     },
     "execution_count": 42,
     "metadata": {},
     "output_type": "execute_result"
    }
   ],
   "source": [
    "#undirected\n",
    "G.nodes"
   ]
  },
  {
   "cell_type": "code",
   "execution_count": 43,
   "metadata": {},
   "outputs": [],
   "source": [
    "dg = nx.DiGraph()"
   ]
  },
  {
   "cell_type": "code",
   "execution_count": 44,
   "metadata": {},
   "outputs": [
    {
     "data": {
      "text/plain": [
       "<networkx.classes.graph.Graph at 0x1a1ccacfd0>"
      ]
     },
     "execution_count": 44,
     "metadata": {},
     "output_type": "execute_result"
    }
   ],
   "source": [
    "# you can create an undirected representation of network G\n",
    "nx.to_undirected(G)"
   ]
  },
  {
   "cell_type": "code",
   "execution_count": 45,
   "metadata": {},
   "outputs": [],
   "source": [
    "# you can create a directed representation of network G\n",
    "dg = nx.to_directed(G)"
   ]
  },
  {
   "cell_type": "code",
   "execution_count": 46,
   "metadata": {},
   "outputs": [
    {
     "data": {
      "text/plain": [
       "1.0"
      ]
     },
     "execution_count": 46,
     "metadata": {},
     "output_type": "execute_result"
    }
   ],
   "source": [
    "nx.reciprocity(dg)"
   ]
  },
  {
   "cell_type": "code",
   "execution_count": 47,
   "metadata": {},
   "outputs": [
    {
     "data": {
      "text/plain": [
       "OutEdgeView([('Mary', 'Steven'), ('Steven', 'Mary')])"
      ]
     },
     "execution_count": 47,
     "metadata": {},
     "output_type": "execute_result"
    }
   ],
   "source": [
    "dg.edges"
   ]
  },
  {
   "cell_type": "markdown",
   "metadata": {},
   "source": [
    "#### c. Multigraphs\n",
    "\n",
    "Many algorithms are not well defined on such graphs. Therefore, you should convert such graphs rather to a standard graph in a way that makes the measurement well defined."
   ]
  },
  {
   "cell_type": "code",
   "execution_count": 48,
   "metadata": {},
   "outputs": [],
   "source": [
    "# multigraphs can store multiple edges information between same two nodes that can have different properties\n",
    "MG = nx.MultiGraph()\n",
    "MG.add_weighted_edges_from([(1, 2, 3.0), (1, 2, 75), (2, 3, 5), (1, 2, 4.2)])"
   ]
  },
  {
   "cell_type": "code",
   "execution_count": 49,
   "metadata": {},
   "outputs": [
    {
     "data": {
      "text/plain": [
       "MultiEdgeView([(1, 2, 0), (1, 2, 1), (1, 2, 2), (2, 3, 0)])"
      ]
     },
     "execution_count": 49,
     "metadata": {},
     "output_type": "execute_result"
    }
   ],
   "source": [
    "# lists the edges (node1, node2, edge_index), including the multiedges, adding the multiedge index as 3rd element in edge tuple\n",
    "MG.edges"
   ]
  },
  {
   "cell_type": "code",
   "execution_count": 50,
   "metadata": {},
   "outputs": [
    {
     "data": {
      "text/plain": [
       "MultiEdgeDataView([(1, 2, 3.0), (1, 2, 75), (1, 2, 4.2), (2, 3, 5)])"
      ]
     },
     "execution_count": 50,
     "metadata": {},
     "output_type": "execute_result"
    }
   ],
   "source": [
    "# lists the edges (node1, node2, weight/edge_attribute), the 3rd element is the weights of the edges\n",
    "MG.edges.data('weight')"
   ]
  },
  {
   "cell_type": "code",
   "execution_count": 51,
   "metadata": {},
   "outputs": [
    {
     "data": {
      "text/plain": [
       "MultiEdgeDataView([(1, 2, {'weight': 3.0}), (1, 2, {'weight': 75}), (1, 2, {'weight': 4.2}), (2, 3, {'weight': 5})])"
      ]
     },
     "execution_count": 51,
     "metadata": {},
     "output_type": "execute_result"
    }
   ],
   "source": [
    "MG.edges.data()"
   ]
  },
  {
   "cell_type": "code",
   "execution_count": 52,
   "metadata": {},
   "outputs": [
    {
     "data": {
      "text/plain": [
       "AtlasView({0: {'weight': 3.0}, 1: {'weight': 75}, 2: {'weight': 4.2}})"
      ]
     },
     "execution_count": 52,
     "metadata": {},
     "output_type": "execute_result"
    }
   ],
   "source": [
    "# check the weight of an edge\n",
    "MG[1][2]"
   ]
  },
  {
   "cell_type": "markdown",
   "metadata": {},
   "source": [
    "## A bit about power law in networks\n"
   ]
  },
  {
   "cell_type": "code",
   "execution_count": null,
   "metadata": {},
   "outputs": [],
   "source": [
    "G_random = nx.erdos_renyi_graph(100, 0.1)"
   ]
  },
  {
   "cell_type": "code",
   "execution_count": null,
   "metadata": {},
   "outputs": [],
   "source": [
    "nx.draw(G_random)"
   ]
  },
  {
   "cell_type": "code",
   "execution_count": null,
   "metadata": {},
   "outputs": [],
   "source": [
    "G_ba = nx.barabasi_albert_graph(100, 2)"
   ]
  },
  {
   "cell_type": "code",
   "execution_count": null,
   "metadata": {},
   "outputs": [],
   "source": [
    "nx.draw(G_ba)"
   ]
  },
  {
   "cell_type": "code",
   "execution_count": null,
   "metadata": {},
   "outputs": [],
   "source": [
    "# Plot a histogram of degree centrality\n",
    "plt.hist(list(nx.degree_centrality(G_random).values()))\n",
    "plt.show()"
   ]
  },
  {
   "cell_type": "code",
   "execution_count": null,
   "metadata": {},
   "outputs": [],
   "source": [
    "plt.hist(list(nx.degree_centrality(G_ba).values()))\n",
    "plt.show()"
   ]
  },
  {
   "cell_type": "code",
   "execution_count": null,
   "metadata": {},
   "outputs": [],
   "source": [
    "G_random = nx.erdos_renyi_graph(2000, 0.2)\n",
    "G_ba = nx.barabasi_albert_graph(2000, 20)"
   ]
  },
  {
   "cell_type": "code",
   "execution_count": null,
   "metadata": {},
   "outputs": [],
   "source": [
    "d = {}\n",
    "for i, j in dict(nx.degree(G_random)).items():\n",
    "    if j in d:\n",
    "        d[j] += 1\n",
    "    else:\n",
    "        d[j] = 1\n",
    "x = np.log2(list((d.keys())))\n",
    "y = np.log2(list(d.values()))\n",
    "plt.scatter(x, y, alpha=0.9)\n",
    "plt.show()"
   ]
  },
  {
   "cell_type": "code",
   "execution_count": null,
   "metadata": {},
   "outputs": [],
   "source": [
    "d = {}\n",
    "for i, j in dict(nx.degree(G_ba)).items():\n",
    "    if j in d:\n",
    "        d[j] += 1\n",
    "    else:\n",
    "        d[j] = 1\n",
    "x = np.log2(list((d.keys())))\n",
    "y = np.log2(list(d.values()))\n",
    "plt.scatter(x, y, alpha=0.9)\n",
    "plt.show()"
   ]
  },
  {
   "cell_type": "code",
   "execution_count": null,
   "metadata": {},
   "outputs": [],
   "source": []
  }
 ],
 "metadata": {
  "kernelspec": {
   "display_name": "Python 3",
   "language": "python",
   "name": "python3"
  },
  "language_info": {
   "codemirror_mode": {
    "name": "ipython",
    "version": 3
   },
   "file_extension": ".py",
   "mimetype": "text/x-python",
   "name": "python",
   "nbconvert_exporter": "python",
   "pygments_lexer": "ipython3",
   "version": "3.7.5"
  }
 },
 "nbformat": 4,
 "nbformat_minor": 2
}
