{
 "cells": [
  {
   "cell_type": "markdown",
   "metadata": {},
   "source": [
    "### Exercise 18"
   ]
  },
  {
   "cell_type": "markdown",
   "metadata": {},
   "source": [
    "Consider the code snippet below, which initialises three lists each of size `stepsize`.  Write a program that returns a list of tuples, where each tuple contains one element each from the 3 lists. For a stepsize of 10, the lists will be:\n",
    "```py\n",
    "list1= [0, 1, 2, 3, 4, 5, 6, 7, 8, 9]\n",
    "list2= [10, 11, 12, 13, 14, 15, 16, 17, 18, 19]\n",
    "list3= [20, 21, 22, 23, 24, 25, 26, 27, 28, 29]\n",
    "```\n",
    "Then the output `combList` should be \n",
    "```py\n",
    "combList = [(0, 10, 20),\n",
    " (1, 11, 21),\n",
    " (2, 12, 22),\n",
    " (3, 13, 23),\n",
    " (4, 14, 24),\n",
    " (5, 15, 25),\n",
    " (6, 16, 26),\n",
    " (7, 17, 27),\n",
    " (8, 18, 28),\n",
    " (9, 19, 29)]\n",
    "```\n",
    "\n",
    "- Please use the standard loop based approach, list comprehensions and `zip` approach to achieve the same.\n",
    "- use `%%timeit` magic to check the time taken by each of these appraoches\n",
    "- Experiment with `stepsize` with values `50, 100, 1000, 10000, 100000` "
   ]
  },
  {
   "cell_type": "code",
   "execution_count": null,
   "metadata": {},
   "outputs": [],
   "source": [
    "stepsize = 50\n",
    "\n",
    "list1 = range(stepsize)\n",
    "list2 = range(stepsize,2*stepsize)\n",
    "list3 = range(2*stepsize,3*stepsize)\n",
    "combList = list()"
   ]
  },
  {
   "cell_type": "code",
   "execution_count": null,
   "metadata": {},
   "outputs": [],
   "source": [
    "%%timeit\n",
    "#zip"
   ]
  },
  {
   "cell_type": "code",
   "execution_count": null,
   "metadata": {},
   "outputs": [],
   "source": [
    "%%timeit\n",
    "#for loop"
   ]
  },
  {
   "cell_type": "code",
   "execution_count": null,
   "metadata": {},
   "outputs": [],
   "source": [
    "%%timeit\n",
    "#list comprehension"
   ]
  },
  {
   "cell_type": "markdown",
   "metadata": {},
   "source": [
    "### Lists Vs Numpy"
   ]
  },
  {
   "cell_type": "markdown",
   "metadata": {},
   "source": [
    "\n",
    "- Consider a `list`, `py_arr=range(1,stepsize)`. For `stepsize` with values `50,100,1000,10000,100000`, perform the following\n",
    "- Find the mean of the elements in the list\n",
    "- convert the list into an numpy array and find the mean\n",
    "- Compare the runtime in each of the cases"
   ]
  },
  {
   "cell_type": "code",
   "execution_count": null,
   "metadata": {},
   "outputs": [],
   "source": [
    "import numpy as np\n",
    "import sys\n",
    "\n",
    "stepsize = 50\n",
    "py_arr = range(1,stepsize)\n",
    "numpy_arr = np.array(py_arr)\n",
    "\n",
    "# your code gopes here"
   ]
  },
  {
   "cell_type": "code",
   "execution_count": null,
   "metadata": {},
   "outputs": [],
   "source": [
    "%%timeit\n",
    "# mean using list"
   ]
  },
  {
   "cell_type": "code",
   "execution_count": null,
   "metadata": {},
   "outputs": [],
   "source": [
    "%%timeit\n",
    "# mean using numpy"
   ]
  },
  {
   "cell_type": "markdown",
   "metadata": {},
   "source": [
    "###  Python, Numpy and Multiprocessing\n",
    "- The following questions might look familiar to you, as you were introduced to some of those as introductory numpy exercises.\n",
    "- For the following questions, write a program using both numpy and standard python data structures (lists, tuples,  dictionaries, etc.).\n",
    "- For both the cases, use `%%timeit` and observe the performance difference for each of them.\n",
    "    -  Reverse a vector (first element becomes last)\n",
    "    -  Create a 3x3 matrix with values ranging from 0 to 8 \n",
    "    -  Find indices of non-zero elements from [1,2,0,0,4,0]\n",
    "    -  Create a 5x5 matrix with values 1,2,3,4 just below the diagonal\n",
    "    -  Find common values between two arrays\n",
    "    -  How to find the closest value (to a given scalar) in a vector\n",
    "    -  Consider a random vector with shape (100,2) representing coordinates, find point by point distances \n",
    "    -  Subtract the mean of each row of a matrix with elements of the row\n",
    "    -  Compute averages using a sliding window over an array\n",
    "    -  Find the most frequent value in an array\n"
   ]
  },
  {
   "cell_type": "markdown",
   "metadata": {},
   "source": [
    "### References\n",
    "\n",
    "- https://towardsdatascience.com/a-hitchhiker-guide-to-python-numpy-arrays-9358de570121\n",
    "- https://github.com/rougier/numpy-100/blob/master/100_Numpy_exercises.ipynb"
   ]
  }
 ],
 "metadata": {
  "kernelspec": {
   "display_name": "Python 3",
   "language": "python",
   "name": "python3"
  },
  "language_info": {
   "codemirror_mode": {
    "name": "ipython",
    "version": 3
   },
   "file_extension": ".py",
   "mimetype": "text/x-python",
   "name": "python",
   "nbconvert_exporter": "python",
   "pygments_lexer": "ipython3",
   "version": "3.7.3"
  }
 },
 "nbformat": 4,
 "nbformat_minor": 2
}
